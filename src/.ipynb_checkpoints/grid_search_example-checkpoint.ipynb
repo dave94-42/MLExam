{
 "cells": [
  {
   "cell_type": "markdown",
   "metadata": {},
   "source": [
    "# Grid search"
   ]
  },
  {
   "cell_type": "code",
   "execution_count": 1,
   "metadata": {
    "collapsed": true
   },
   "outputs": [],
   "source": [
    "from Validation import *\n",
    "from time import time\n",
    "from utils import *\n",
    "from grid_search import *\n",
    "from Neural_network import *"
   ]
  },
  {
   "cell_type": "markdown",
   "metadata": {},
   "source": [
    "### 1) Load  dataset"
   ]
  },
  {
   "cell_type": "code",
   "execution_count": 2,
   "metadata": {
    "collapsed": true
   },
   "outputs": [],
   "source": [
    "# choose monk dataset\n",
    "monk = str(3)\n",
    "columns = ['label', 'f1', 'f2', 'f3', 'f4', 'f5', 'f6', 'id']\n",
    "\n",
    "# 1. traning set\n",
    "train_file = \"../monk_datasets/monks-\" + monk + \".train\"\n",
    "train_data = pd.read_csv(train_file, delim_whitespace=True, header=None)\n",
    "train_data.columns = columns\n",
    "\n",
    "# 2. test set\n",
    "test_file = \"../monk_datasets/monks-\" + monk + \".test\"\n",
    "test_data = pd.read_csv(test_file, delim_whitespace=True, header=None)\n",
    "test_data.columns = columns\n",
    "\n",
    "# 3. getting patterns and labels\n",
    "encoding = [3, 3, 2, 3, 4, 2]\n",
    "features = ['f1', 'f2', 'f3', 'f4', 'f5', 'f6']\n",
    "x_train, x_test = decode_patterns(encoding, features, train_data, test_data)\n",
    "y_train, y_test = transform_labels(train_data, test_data)"
   ]
  },
  {
   "cell_type": "code",
   "execution_count": 3,
   "metadata": {},
   "outputs": [],
   "source": [
    "# directory where to save learning curves\n",
    "save_directory = './' \n",
    "# loss to optimize\n",
    "loss_obj = SquaredError(\"tangentH\")"
   ]
  },
  {
   "cell_type": "markdown",
   "metadata": {},
   "source": [
    "### 2) Grid Search - SGD"
   ]
  },
  {
   "cell_type": "code",
   "execution_count": 4,
   "metadata": {},
   "outputs": [
    {
     "name": "stdout",
     "output_type": "stream",
     "text": [
      "BEGIN GRID SEARCH SGD: 32 experiments\n",
      "0 out of 32 experiments\n",
      "./lr_0,01-mo_0,5-bat:16-reg_0,01-arc_[17,10,1,] got MEE (TR/VL) 0.979217692822588 0.8375787499775816\n",
      "1 out of 32 experiments\n",
      "./lr_0,01-mo_0,5-bat:32-reg_0,01-arc_[17,10,1,] got MEE (TR/VL) 0.9396342695961746 0.7401722378220591\n",
      "2 out of 32 experiments\n",
      "./lr_0,01-mo_0,5-bat:16-reg_0,01-arc_[17,10,1,] got MEE (TR/VL) 0.7942542319355838 0.5662633612041496\n",
      "3 out of 32 experiments\n",
      "./lr_0,01-mo_0,5-bat:32-reg_0,01-arc_[17,10,1,] got MEE (TR/VL) 1.2105439741872985 1.0402320390174362\n",
      "4 out of 32 experiments\n",
      "./lr_0,01-mo_0,9-bat:16-reg_0,01-arc_[17,10,1,] got MEE (TR/VL) 0.5249194238399848 0.3105182994988309\n",
      "5 out of 32 experiments\n",
      "./lr_0,01-mo_0,9-bat:32-reg_0,01-arc_[17,10,1,] got MEE (TR/VL) 0.7721654050911768 0.5953288143252846\n",
      "6 out of 32 experiments\n",
      "./lr_0,01-mo_0,9-bat:16-reg_0,01-arc_[17,10,1,] got MEE (TR/VL) 0.5629180424618587 0.2586766731536888\n",
      "7 out of 32 experiments\n",
      "./lr_0,01-mo_0,9-bat:32-reg_0,01-arc_[17,10,1,] got MEE (TR/VL) 0.7695281150973168 0.5644613637097273\n",
      "8 out of 32 experiments\n",
      "./lr_0,001-mo_0,5-bat:16-reg_0,01-arc_[17,10,1,] got MEE (TR/VL) 1.1308956261411662 0.9919983047100667\n",
      "9 out of 32 experiments\n",
      "./lr_0,001-mo_0,5-bat:32-reg_0,01-arc_[17,10,1,] got MEE (TR/VL) 1.3414272486879901 1.11255023408068\n",
      "10 out of 32 experiments\n",
      "./lr_0,001-mo_0,5-bat:16-reg_0,01-arc_[17,10,1,] got MEE (TR/VL) 1.4654490174113186 1.2156647855314622\n",
      "11 out of 32 experiments\n",
      "./lr_0,001-mo_0,5-bat:32-reg_0,01-arc_[17,10,1,] got MEE (TR/VL) 1.3861050860167536 1.187672521098177\n",
      "12 out of 32 experiments\n",
      "./lr_0,001-mo_0,9-bat:16-reg_0,01-arc_[17,10,1,] got MEE (TR/VL) 0.978843594324807 0.807489077519095\n",
      "13 out of 32 experiments\n",
      "./lr_0,001-mo_0,9-bat:32-reg_0,01-arc_[17,10,1,] got MEE (TR/VL) 1.2328848056459543 1.0816534698160094\n",
      "14 out of 32 experiments\n",
      "./lr_0,001-mo_0,9-bat:16-reg_0,01-arc_[17,10,1,] got MEE (TR/VL) 1.114122225865663 0.9761362916166829\n",
      "15 out of 32 experiments\n",
      "./lr_0,001-mo_0,9-bat:32-reg_0,01-arc_[17,10,1,] got MEE (TR/VL) 1.417708046648811 1.30324033700828\n",
      "16 out of 32 experiments\n",
      "./lr_0,01-mo_0,5-bat:16-reg_0,001-arc_[17,10,1,] got MEE (TR/VL) 0.6180398825462329 0.5555028246242559\n",
      "17 out of 32 experiments\n",
      "./lr_0,01-mo_0,5-bat:32-reg_0,001-arc_[17,10,1,] got MEE (TR/VL) 0.7368566047653906 0.6974461152815349\n",
      "18 out of 32 experiments\n",
      "./lr_0,01-mo_0,5-bat:16-reg_0,001-arc_[17,10,1,] got MEE (TR/VL) 0.9204454733839454 0.9398261995561497\n",
      "19 out of 32 experiments\n",
      "./lr_0,01-mo_0,5-bat:32-reg_0,001-arc_[17,10,1,] got MEE (TR/VL) 0.8983857436922029 0.833179314678858\n",
      "20 out of 32 experiments\n",
      "./lr_0,01-mo_0,9-bat:16-reg_0,001-arc_[17,10,1,] got MEE (TR/VL) 0.47196916629740715 0.3481474524876368\n",
      "21 out of 32 experiments\n",
      "./lr_0,01-mo_0,9-bat:32-reg_0,001-arc_[17,10,1,] got MEE (TR/VL) 0.7921020461601651 0.668508521086689\n",
      "22 out of 32 experiments\n",
      "./lr_0,01-mo_0,9-bat:16-reg_0,001-arc_[17,10,1,] got MEE (TR/VL) 0.31326528369209444 0.22425983096573288\n",
      "23 out of 32 experiments\n",
      "./lr_0,01-mo_0,9-bat:32-reg_0,001-arc_[17,10,1,] got MEE (TR/VL) 0.5358139631556844 0.4340626097679722\n",
      "24 out of 32 experiments\n",
      "./lr_0,001-mo_0,5-bat:16-reg_0,001-arc_[17,10,1,] got MEE (TR/VL) 1.3785992508098224 1.3134880670358855\n",
      "25 out of 32 experiments\n",
      "./lr_0,001-mo_0,5-bat:32-reg_0,001-arc_[17,10,1,] got MEE (TR/VL) 1.2009303123038633 1.1511862180037697\n",
      "26 out of 32 experiments\n",
      "./lr_0,001-mo_0,5-bat:16-reg_0,001-arc_[17,10,1,] got MEE (TR/VL) 1.0232194930397671 1.0136112735053848\n",
      "27 out of 32 experiments\n",
      "./lr_0,001-mo_0,5-bat:32-reg_0,001-arc_[17,10,1,] got MEE (TR/VL) 1.3904792850199283 1.4547497403664533\n",
      "28 out of 32 experiments\n",
      "./lr_0,001-mo_0,9-bat:16-reg_0,001-arc_[17,10,1,] got MEE (TR/VL) 1.0121143508481296 0.9367654826949164\n",
      "29 out of 32 experiments\n",
      "./lr_0,001-mo_0,9-bat:32-reg_0,001-arc_[17,10,1,] got MEE (TR/VL) 1.2196702141883473 1.1952102228564425\n",
      "30 out of 32 experiments\n",
      "./lr_0,001-mo_0,9-bat:16-reg_0,001-arc_[17,10,1,] got MEE (TR/VL) 1.3330497587384527 1.3514574702937832\n",
      "31 out of 32 experiments\n",
      "./lr_0,001-mo_0,9-bat:32-reg_0,001-arc_[17,10,1,] got MEE (TR/VL) 1.102809310235642 1.0909799092058736\n"
     ]
    }
   ],
   "source": [
    "# grid search parameters\n",
    "grid = GridSearchSGDParams(learning_rate = [0.01, 0.001],\n",
    "                           momentum = [0.5, 0.9], \n",
    "                           batch_size = [16, 32], \n",
    "                           architecture = [[17, 10, 1]],\n",
    "                           neurons = [[InputNeuron, TanHNeuron, TanHNeuron]], \n",
    "                           regularization = [0.01, 0.001],\n",
    "                           epsilon=[1e-3, 1e-1],\n",
    "                           epoch = 5)\n",
    "\n",
    "# execute grid search\n",
    "grid_search_SGD(grid, loss_obj, x_train, y_train,\n",
    "                x_test, y_test, n_trials=1, save_in_dir=save_directory)"
   ]
  },
  {
   "cell_type": "markdown",
   "metadata": {},
   "source": [
    "### 3) Grid Search - BFGS"
   ]
  },
  {
   "cell_type": "code",
   "execution_count": 5,
   "metadata": {},
   "outputs": [
    {
     "ename": "NameError",
     "evalue": "name 'loss' is not defined",
     "output_type": "error",
     "traceback": [
      "\u001b[0;31m---------------------------------------------------------------------------\u001b[0m",
      "\u001b[0;31mNameError\u001b[0m                                 Traceback (most recent call last)",
      "\u001b[0;32m<ipython-input-5-d53c5e73b676>\u001b[0m in \u001b[0;36m<module>\u001b[0;34m()\u001b[0m\n\u001b[1;32m      8\u001b[0m                             neurons = [[InputNeuron, TanHNeuron, TanHNeuron]])         \n\u001b[1;32m      9\u001b[0m \u001b[0;34m\u001b[0m\u001b[0m\n\u001b[0;32m---> 10\u001b[0;31m grid_search_BFGS(grid, loss, train_patterns, train_labels,\n\u001b[0m\u001b[1;32m     11\u001b[0m                  test_patterns, test_labels, n_trials=2, save_in_dir=save_directory)\n",
      "\u001b[0;31mNameError\u001b[0m: name 'loss' is not defined"
     ]
    }
   ],
   "source": [
    "grid = GridSearchBFGSParams(c_1=[0.0001], \n",
    "                            c_2=[0.9], \n",
    "                            theta=[0.9], \n",
    "                            regularization=[0.001], \n",
    "                            epsilon=[0.001, 0.0001],\n",
    "                            epoch=5,\n",
    "                            architecture = [[17, 10, 1]],\n",
    "                            neurons = [[InputNeuron, TanHNeuron, TanHNeuron]])         \n",
    "\n",
    "grid_search_BFGS(grid, loss_obj, train_patterns, train_labels,\n",
    "                 test_patterns, test_labels, n_trials=2, save_in_dir=save_directory)"
   ]
  },
  {
   "cell_type": "code",
   "execution_count": null,
   "metadata": {
    "collapsed": true
   },
   "outputs": [],
   "source": []
  }
 ],
 "metadata": {
  "kernelspec": {
   "display_name": "Python 2",
   "language": "python",
   "name": "python2"
  },
  "language_info": {
   "codemirror_mode": {
    "name": "ipython",
    "version": 2
   },
   "file_extension": ".py",
   "mimetype": "text/x-python",
   "name": "python",
   "nbconvert_exporter": "python",
   "pygments_lexer": "ipython2",
   "version": "2.7.14"
  }
 },
 "nbformat": 4,
 "nbformat_minor": 2
}
