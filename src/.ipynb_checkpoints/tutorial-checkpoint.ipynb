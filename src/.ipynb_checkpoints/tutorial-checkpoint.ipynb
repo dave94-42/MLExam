{
 "cells": [
  {
   "cell_type": "markdown",
   "metadata": {},
   "source": [
    "# Tutorial\n",
    "- Train / test on ML-Cup dataset\n",
    "    - SGD\n",
    "    - BFGS\n",
    "    - L-BFGS\n",
    "\n",
    "- Perform grid search\n",
    "    - SGD\n",
    "    - BFGS\n",
    "    - L-BFGS\n",
    "- Save and load network parametes"
   ]
  },
  {
   "cell_type": "code",
   "execution_count": 1,
   "metadata": {
    "collapsed": true
   },
   "outputs": [],
   "source": [
    "from Validation import *\n",
    "from time import time\n",
    "from utils import *\n",
    "from grid_search import *\n",
    "from Neural_network import *\n",
    "from sklearn.preprocessing import normalize, scale"
   ]
  },
  {
   "cell_type": "markdown",
   "metadata": {},
   "source": [
    "# Monk 1,2,3 with SGD, BFGS and L-BFGS"
   ]
  },
  {
   "cell_type": "markdown",
   "metadata": {},
   "source": [
    "### Load  Monk dataset"
   ]
  },
  {
   "cell_type": "code",
   "execution_count": 13,
   "metadata": {
    "collapsed": true
   },
   "outputs": [],
   "source": [
    "# choose monk dataset\n",
    "monk = str(1)\n",
    "columns = ['label', 'f1', 'f2', 'f3', 'f4', 'f5', 'f6', 'id']\n",
    "\n",
    "# 1. traning set\n",
    "train_file = \"../monk_datasets/monks-\" + monk + \".train\"\n",
    "train_data = pd.read_csv(train_file, delim_whitespace=True, header=None)\n",
    "train_data.columns = columns\n",
    "\n",
    "# 2. test set\n",
    "test_file = \"../monk_datasets/monks-\" + monk + \".test\"\n",
    "test_data = pd.read_csv(test_file, delim_whitespace=True, header=None)\n",
    "test_data.columns = columns\n",
    "\n",
    "# 3. getting patterns and labels\n",
    "encoding = [3, 3, 2, 3, 4, 2]\n",
    "features = ['f1', 'f2', 'f3', 'f4', 'f5', 'f6']\n",
    "X_train, X_test = decode_patterns(encoding, features, train_data, test_data)\n",
    "Y_train, Y_test = transform_labels(train_data, test_data)"
   ]
  },
  {
   "cell_type": "markdown",
   "metadata": {
    "collapsed": true
   },
   "source": [
    "--------------------------------------\n",
    "# ML-Cup with SGD, BFGS and L-BFGS"
   ]
  },
  {
   "cell_type": "markdown",
   "metadata": {},
   "source": [
    "### Load ML-Cup dataset"
   ]
  },
  {
   "cell_type": "markdown",
   "metadata": {
    "collapsed": true
   },
   "source": [
    "   "
   ]
  },
  {
   "cell_type": "code",
   "execution_count": 2,
   "metadata": {
    "collapsed": true
   },
   "outputs": [],
   "source": [
    "# 1. read file train set\n",
    "#df = pd.read_csv(\"../MLCup/ML-CUP17-TR_shuffled.csv\", comment='#')\n",
    "features_col = [\"input1\",\"input2\",\"input3\",\"input4\",\"input5\",\n",
    "                \"input6\",\"input7\", \"input8\",\"input9\",\"input10\"]\n",
    "targets_col = [\"target_x\", \"target_y\"]\n",
    "df = pd.read_csv(\"../Data/MLCup/ML-CUP17-TR.csv\", comment='#')\n",
    "\n",
    "# 2. divide pattern and targets\n",
    "patterns, labels = divide_patterns_labels(df,features_col,targets_col)\n",
    "patterns = scale(patterns)\n",
    "labels = scale(labels)\n",
    "\n",
    "# 3. divide in development set and test set\n",
    "X_train, Y_train, X_test, Y_test = holdout_cup(patterns, labels, fraction_tr=0.8)"
   ]
  },
  {
   "cell_type": "code",
   "execution_count": 3,
   "metadata": {
    "collapsed": true
   },
   "outputs": [],
   "source": [
    "architecture = [10, 5, 2]\n",
    "neurons = [InputNeuron, TanHNeuron, OutputNeuron]\n",
    "loss_object = EuclideanError()\n",
    "common_network = Network(architecture, neurons)"
   ]
  },
  {
   "cell_type": "markdown",
   "metadata": {},
   "source": [
    "## SGD - cup"
   ]
  },
  {
   "cell_type": "code",
   "execution_count": 7,
   "metadata": {
    "collapsed": true
   },
   "outputs": [],
   "source": [
    "learning_rate = 0.1\n",
    "momentum = 0.9\n",
    "lambda_ = 0\n",
    "batch_size = len(X_train)\n",
    "epsilon = 1e-5\n",
    "epochs = 100\n",
    "network = copy.deepcopy(common_network)"
   ]
  },
  {
   "cell_type": "code",
   "execution_count": 8,
   "metadata": {},
   "outputs": [],
   "source": [
    "tic = time()\n",
    "# 5. train\n",
    "loss_tr_sgd, miss_train, \\\n",
    "loss_ts_sgd, miss_test, norm_gradients_sgd = network.train_SGD(x_train=X_train, \n",
    "                                         y_train=Y_train, \n",
    "                                         x_test=None, #X_test,\n",
    "                                         y_test=None, #Y_test,\n",
    "                                         lossObject=loss_object,\n",
    "                                         epochs=epochs, \n",
    "                                         learning_rate=learning_rate, \n",
    "                                         batch_size=batch_size,\n",
    "                                         momentum=momentum, \n",
    "                                        regularization=lambda_, epsilon=epsilon)\n",
    "toc = time()"
   ]
  },
  {
   "cell_type": "code",
   "execution_count": 9,
   "metadata": {},
   "outputs": [
    {
     "data": {
      "image/png": "[encoded data removed]",
      "text/plain": [
       "<matplotlib.figure.Figure at 0x7f9fb95e8990>"
      ]
     },
     "metadata": {},
     "output_type": "display_data"
    },
    {
     "name": "stdout",
     "output_type": "stream",
     "text": [
      "loss train: 0.251538849437\n",
      "loss test: None\n",
      "training time: 14.3392829895\n",
      "norm gradient last: 0.0371716358122\n",
      "iterazioni: 100\n"
     ]
    }
   ],
   "source": [
    "plot_train_test_learning_curve_loss(loss_ts_sgd, loss_tr_sgd)\n",
    "print \"loss train:\", loss_tr_sgd[-1]\n",
    "print \"loss test:\", loss_ts_sgd[-1] if len(loss_ts_sgd) > 0 else None\n",
    "print \"training time:\", (toc-tic)\n",
    "print \"norm gradient last:\", norm_gradients_sgd[-1]\n",
    "print \"iterazioni:\", len(loss_tr_sgd)"
   ]
  },
  {
   "cell_type": "markdown",
   "metadata": {},
   "source": [
    "## BFGS - cup"
   ]
  },
  {
   "cell_type": "code",
   "execution_count": 10,
   "metadata": {
    "collapsed": true
   },
   "outputs": [],
   "source": [
    "c_1 = 1e-5\n",
    "c_2 = 0.9\n",
    "theta = 0.5\n",
    "lambda_ = 0.0\n",
    "epsilon = 1e-5\n",
    "epochs = 2000\n",
    "network = copy.deepcopy(common_network)"
   ]
  },
  {
   "cell_type": "code",
   "execution_count": 11,
   "metadata": {
    "scrolled": false
   },
   "outputs": [
    {
     "name": "stdout",
     "output_type": "stream",
     "text": [
      "eigenvalues - at least one equal to 0\n",
      "stop - matrix H not positive definite. Min eigenvalue: -0.000441944094139\n"
     ]
    }
   ],
   "source": [
    "tic = time()\n",
    "loss_tr_bfgs, miss_tr, \\\n",
    "loss_ts_bfgs, miss_ts, alphas_bfgs, \\\n",
    "norm_gradients_bfgs, cond_bfgs = network.train_BFGS(x_train=X_train,\n",
    "                                                    y_train=Y_train, \n",
    "                                                    x_test=None, #X_test\n",
    "                                                    y_test=None, #Y_test,\n",
    "                                                    theta=theta, c_1=c_1, c_2=c_2, \n",
    "                                                    lossObject=loss_object, \n",
    "                                                    regularization=lambda_, \n",
    "                                                    epochs=epochs, epsilon=epsilon,\n",
    "                                                    line_search='wolfe', debug=True)\n",
    "toc = time()"
   ]
  },
  {
   "cell_type": "code",
   "execution_count": 12,
   "metadata": {
    "scrolled": true
   },
   "outputs": [
    {
     "data": {
      "image/png": "[encoded data removed]",
      "text/plain": [
       "<matplotlib.figure.Figure at 0x7f9fb958fdd0>"
      ]
     },
     "metadata": {},
     "output_type": "display_data"
    },
    {
     "name": "stdout",
     "output_type": "stream",
     "text": [
      "loss train: 0.199486708021\n",
      "loss test: None\n",
      "training time: 453.822844028\n",
      "norm gradient last: 0.00952578889937\n",
      "iterazioni: 1294\n"
     ]
    }
   ],
   "source": [
    "plot_train_test_learning_curve_loss(loss_ts_bfgs, loss_tr_bfgs)\n",
    "print \"loss train:\", loss_tr_bfgs[-1]\n",
    "print \"loss test:\", loss_ts_bfgs[-1] if len(loss_ts_bfgs) > 0 else None\n",
    "print \"training time:\", (toc-tic)\n",
    "print \"norm gradient last:\", norm_gradients_bfgs[-1]\n",
    "print \"iterazioni:\", len(loss_tr_bfgs)"
   ]
  },
  {
   "cell_type": "markdown",
   "metadata": {},
   "source": [
    "## L-BFGS - cup"
   ]
  },
  {
   "cell_type": "code",
   "execution_count": 4,
   "metadata": {
    "collapsed": true
   },
   "outputs": [],
   "source": [
    "c_1 = 1e-4\n",
    "c_2 = 0.9\n",
    "theta = 0.9\n",
    "lambda_ = 0\n",
    "epsilon = 1e-5\n",
    "epochs = 2000\n",
    "m = 5\n",
    "\n",
    "network = copy.deepcopy(common_network)"
   ]
  },
  {
   "cell_type": "code",
   "execution_count": 5,
   "metadata": {},
   "outputs": [
    {
     "ename": "KeyboardInterrupt",
     "evalue": "",
     "output_type": "error",
     "traceback": [
      "\u001b[0;31m---------------------------------------------------------------------------\u001b[0m",
      "\u001b[0;31mKeyboardInterrupt\u001b[0m                         Traceback (most recent call last)",
      "\u001b[0;32m<ipython-input-5-9fb9ad2bd330>\u001b[0m in \u001b[0;36m<module>\u001b[0;34m()\u001b[0m\n\u001b[1;32m     11\u001b[0m                                                        \u001b[0mepochs\u001b[0m\u001b[0;34m=\u001b[0m\u001b[0mepochs\u001b[0m\u001b[0;34m,\u001b[0m\u001b[0;34m\u001b[0m\u001b[0m\n\u001b[1;32m     12\u001b[0m                                                        \u001b[0mepsilon\u001b[0m\u001b[0;34m=\u001b[0m\u001b[0mepsilon\u001b[0m\u001b[0;34m,\u001b[0m \u001b[0mm\u001b[0m\u001b[0;34m=\u001b[0m\u001b[0mm\u001b[0m\u001b[0;34m,\u001b[0m\u001b[0;34m\u001b[0m\u001b[0m\n\u001b[0;32m---> 13\u001b[0;31m                                                        line_search='wolfe', debug=True)\n\u001b[0m\u001b[1;32m     14\u001b[0m \u001b[0mtoc\u001b[0m \u001b[0;34m=\u001b[0m \u001b[0mtime\u001b[0m\u001b[0;34m(\u001b[0m\u001b[0;34m)\u001b[0m\u001b[0;34m\u001b[0m\u001b[0m\n",
      "\u001b[0;32m/home/carlo/Documents/UNIPI/MSc/ML/MLExam/src/Neural_network.pyc\u001b[0m in \u001b[0;36mtrain_LBFGS\u001b[0;34m(self, x_train, y_train, x_test, y_test, lossObject, theta, c_1, c_2, epsilon, m, regularization, epochs, line_search, debug, is_test)\u001b[0m\n\u001b[1;32m    596\u001b[0m             \u001b[0;31m# updating weights and compute x_k+1 = x_k + a_k*p_k\u001b[0m\u001b[0;34m\u001b[0m\u001b[0;34m\u001b[0m\u001b[0m\n\u001b[1;32m    597\u001b[0m             \u001b[0mx_new\u001b[0m \u001b[0;34m=\u001b[0m \u001b[0mself\u001b[0m\u001b[0;34m.\u001b[0m\u001b[0mupdate_weights_BFGS\u001b[0m\u001b[0;34m(\u001b[0m\u001b[0mdelta\u001b[0m\u001b[0;34m=\u001b[0m\u001b[0malpha\u001b[0m \u001b[0;34m*\u001b[0m \u001b[0mp\u001b[0m\u001b[0;34m)\u001b[0m\u001b[0;34m\u001b[0m\u001b[0m\n\u001b[0;32m--> 598\u001b[0;31m             \u001b[0mgradient_new\u001b[0m\u001b[0;34m,\u001b[0m \u001b[0mloss\u001b[0m\u001b[0;34m,\u001b[0m \u001b[0mmiss\u001b[0m \u001b[0;34m=\u001b[0m \u001b[0mself\u001b[0m\u001b[0;34m.\u001b[0m\u001b[0mcalculate_gradient\u001b[0m\u001b[0;34m(\u001b[0m\u001b[0mx_train\u001b[0m\u001b[0;34m,\u001b[0m \u001b[0my_train\u001b[0m\u001b[0;34m,\u001b[0m \u001b[0mlossObject\u001b[0m\u001b[0;34m,\u001b[0m \u001b[0mregularization\u001b[0m\u001b[0;34m)\u001b[0m\u001b[0;34m\u001b[0m\u001b[0m\n\u001b[0m\u001b[1;32m    599\u001b[0m \u001b[0;34m\u001b[0m\u001b[0m\n\u001b[1;32m    600\u001b[0m             \u001b[0;31m# append training / validation losses\u001b[0m\u001b[0;34m\u001b[0m\u001b[0;34m\u001b[0m\u001b[0m\n",
      "\u001b[0;32m/home/carlo/Documents/UNIPI/MSc/ML/MLExam/src/Neural_network.pyc\u001b[0m in \u001b[0;36mcalculate_gradient\u001b[0;34m(self, data, targets, lossObject, regularization, as_vector)\u001b[0m\n\u001b[1;32m    345\u001b[0m             \u001b[0;31m# calculate derivative for every pattern, then append to gradient_w_batch\u001b[0m\u001b[0;34m\u001b[0m\u001b[0;34m\u001b[0m\u001b[0m\n\u001b[1;32m    346\u001b[0m             \u001b[0mself\u001b[0m\u001b[0;34m.\u001b[0m\u001b[0mforward\u001b[0m\u001b[0;34m(\u001b[0m\u001b[0mpattern\u001b[0m\u001b[0;34m)\u001b[0m\u001b[0;34m\u001b[0m\u001b[0m\n\u001b[0;32m--> 347\u001b[0;31m             \u001b[0mgradient_w\u001b[0m\u001b[0;34m,\u001b[0m \u001b[0mloss_p\u001b[0m\u001b[0;34m,\u001b[0m \u001b[0mmiss_p\u001b[0m \u001b[0;34m=\u001b[0m \u001b[0mself\u001b[0m\u001b[0;34m.\u001b[0m\u001b[0mback_propagation\u001b[0m\u001b[0;34m(\u001b[0m\u001b[0mt\u001b[0m\u001b[0;34m,\u001b[0m \u001b[0mlossObject\u001b[0m\u001b[0;34m,\u001b[0m \u001b[0mregularization\u001b[0m\u001b[0;34m)\u001b[0m\u001b[0;34m\u001b[0m\u001b[0m\n\u001b[0m\u001b[1;32m    348\u001b[0m             \u001b[0mgradient_w_batch\u001b[0m \u001b[0;34m+=\u001b[0m \u001b[0mgradient_w\u001b[0m\u001b[0;34m\u001b[0m\u001b[0m\n\u001b[1;32m    349\u001b[0m             \u001b[0mloss_batch\u001b[0m \u001b[0;34m+=\u001b[0m \u001b[0mloss_p\u001b[0m\u001b[0;34m\u001b[0m\u001b[0m\n",
      "\u001b[0;32m/home/carlo/Documents/UNIPI/MSc/ML/MLExam/src/Neural_network.pyc\u001b[0m in \u001b[0;36mback_propagation\u001b[0;34m(self, target, lossObject, regularization)\u001b[0m\n\u001b[1;32m    104\u001b[0m \u001b[0;34m\u001b[0m\u001b[0m\n\u001b[1;32m    105\u001b[0m         \u001b[0;31m# 4. compute network weights update\u001b[0m\u001b[0;34m\u001b[0m\u001b[0;34m\u001b[0m\u001b[0m\n\u001b[0;32m--> 106\u001b[0;31m         \u001b[0mgradient_weights\u001b[0m \u001b[0;34m=\u001b[0m \u001b[0mself\u001b[0m\u001b[0;34m.\u001b[0m\u001b[0mcompute_gradient_from_deltas\u001b[0m\u001b[0;34m(\u001b[0m\u001b[0mdelta_vectors\u001b[0m\u001b[0;34m)\u001b[0m\u001b[0;34m\u001b[0m\u001b[0m\n\u001b[0m\u001b[1;32m    107\u001b[0m \u001b[0;34m\u001b[0m\u001b[0m\n\u001b[1;32m    108\u001b[0m         \u001b[0;31m# add regularization gradient 2 * lambda * w_{ji}\u001b[0m\u001b[0;34m\u001b[0m\u001b[0;34m\u001b[0m\u001b[0m\n",
      "\u001b[0;32m/home/carlo/Documents/UNIPI/MSc/ML/MLExam/src/Neural_network.pyc\u001b[0m in \u001b[0;36mcompute_gradient_from_deltas\u001b[0;34m(self, delta_vectors)\u001b[0m\n\u001b[1;32m    144\u001b[0m             \u001b[0mtmpL\u001b[0m \u001b[0;34m=\u001b[0m \u001b[0mnp\u001b[0m\u001b[0;34m.\u001b[0m\u001b[0mempty\u001b[0m\u001b[0;34m(\u001b[0m\u001b[0;34m(\u001b[0m\u001b[0mlen\u001b[0m\u001b[0;34m(\u001b[0m\u001b[0mself\u001b[0m\u001b[0;34m.\u001b[0m\u001b[0mlayers\u001b[0m\u001b[0;34m[\u001b[0m\u001b[0ml\u001b[0m\u001b[0;34m]\u001b[0m\u001b[0;34m.\u001b[0m\u001b[0mneurons\u001b[0m\u001b[0;34m[\u001b[0m\u001b[0;34m:\u001b[0m\u001b[0;34m-\u001b[0m\u001b[0;36m1\u001b[0m\u001b[0;34m]\u001b[0m\u001b[0;34m)\u001b[0m\u001b[0;34m,\u001b[0m\u001b[0mlen\u001b[0m\u001b[0;34m(\u001b[0m\u001b[0mself\u001b[0m\u001b[0;34m.\u001b[0m\u001b[0mlayers\u001b[0m\u001b[0;34m[\u001b[0m\u001b[0ml\u001b[0m\u001b[0;34m-\u001b[0m\u001b[0;36m1\u001b[0m\u001b[0;34m]\u001b[0m\u001b[0;34m.\u001b[0m\u001b[0mneurons\u001b[0m\u001b[0;34m)\u001b[0m\u001b[0;34m)\u001b[0m\u001b[0;34m,\u001b[0m \u001b[0mdtype\u001b[0m\u001b[0;34m=\u001b[0m\u001b[0mfloat\u001b[0m\u001b[0;34m)\u001b[0m\u001b[0;34m\u001b[0m\u001b[0m\n\u001b[1;32m    145\u001b[0m             \u001b[0;32mfor\u001b[0m \u001b[0mn\u001b[0m \u001b[0;32min\u001b[0m \u001b[0mrange\u001b[0m\u001b[0;34m(\u001b[0m\u001b[0mlen\u001b[0m\u001b[0;34m(\u001b[0m\u001b[0mself\u001b[0m\u001b[0;34m.\u001b[0m\u001b[0mlayers\u001b[0m\u001b[0;34m[\u001b[0m\u001b[0ml\u001b[0m\u001b[0;34m]\u001b[0m\u001b[0;34m.\u001b[0m\u001b[0mneurons\u001b[0m\u001b[0;34m[\u001b[0m\u001b[0;34m:\u001b[0m\u001b[0;34m-\u001b[0m\u001b[0;36m1\u001b[0m\u001b[0;34m]\u001b[0m\u001b[0;34m)\u001b[0m\u001b[0;34m)\u001b[0m\u001b[0;34m:\u001b[0m  \u001b[0;31m# exclude bias neuron\u001b[0m\u001b[0;34m\u001b[0m\u001b[0m\n\u001b[0;32m--> 146\u001b[0;31m                 \u001b[0mneuron_input\u001b[0m \u001b[0;34m=\u001b[0m \u001b[0mnp\u001b[0m\u001b[0;34m.\u001b[0m\u001b[0marray\u001b[0m\u001b[0;34m(\u001b[0m\u001b[0;34m[\u001b[0m\u001b[0mneuron\u001b[0m\u001b[0;34m.\u001b[0m\u001b[0mgetOutput\u001b[0m\u001b[0;34m(\u001b[0m\u001b[0;34m)\u001b[0m \u001b[0;32mfor\u001b[0m \u001b[0mneuron\u001b[0m \u001b[0;32min\u001b[0m \u001b[0mself\u001b[0m\u001b[0;34m.\u001b[0m\u001b[0mlayers\u001b[0m\u001b[0;34m[\u001b[0m\u001b[0ml\u001b[0m\u001b[0;34m-\u001b[0m\u001b[0;36m1\u001b[0m\u001b[0;34m]\u001b[0m\u001b[0;34m.\u001b[0m\u001b[0mneurons\u001b[0m\u001b[0;34m]\u001b[0m\u001b[0;34m,\u001b[0m \u001b[0mdtype\u001b[0m\u001b[0;34m=\u001b[0m\u001b[0mfloat\u001b[0m\u001b[0;34m)\u001b[0m\u001b[0;34m\u001b[0m\u001b[0m\n\u001b[0m\u001b[1;32m    147\u001b[0m                 \u001b[0mtmpL\u001b[0m\u001b[0;34m[\u001b[0m\u001b[0mn\u001b[0m\u001b[0;34m,\u001b[0m\u001b[0;34m:\u001b[0m\u001b[0;34m]\u001b[0m \u001b[0;34m=\u001b[0m \u001b[0mneuron_input\u001b[0m \u001b[0;34m*\u001b[0m \u001b[0mdelta_vectors\u001b[0m\u001b[0;34m[\u001b[0m\u001b[0ml\u001b[0m\u001b[0;34m-\u001b[0m\u001b[0;36m1\u001b[0m\u001b[0;34m]\u001b[0m\u001b[0;34m[\u001b[0m\u001b[0mn\u001b[0m\u001b[0;34m]\u001b[0m\u001b[0;34m\u001b[0m\u001b[0m\n\u001b[1;32m    148\u001b[0m             \u001b[0mgradient_w\u001b[0m\u001b[0;34m[\u001b[0m\u001b[0ml\u001b[0m\u001b[0;34m-\u001b[0m\u001b[0;36m1\u001b[0m\u001b[0;34m]\u001b[0m \u001b[0;34m=\u001b[0m \u001b[0mtmpL\u001b[0m\u001b[0;34m\u001b[0m\u001b[0m\n",
      "\u001b[0;31mKeyboardInterrupt\u001b[0m: "
     ]
    }
   ],
   "source": [
    "tic = time()\n",
    "loss_tr_lbfgs, miss_tr, \\\n",
    "loss_ts_lbfgs, miss_ts, alphas_lbfgs, \\\n",
    "norm_gradients_lbfgs, cond_lbfgs = network.train_LBFGS(x_train=X_train,\n",
    "                                                       y_train=Y_train,\n",
    "                                                       x_test=None, #X_test, \n",
    "                                                       y_test=None, #Y_test,\n",
    "                                                       theta=theta, \n",
    "                                                       c_1=c_1, \n",
    "                                                       c_2=c_2, \n",
    "                                                       lossObject=loss_object,\n",
    "                                                       regularization=lambda_, \n",
    "                                                       epochs=epochs, \n",
    "                                                       epsilon=epsilon, m=m, \n",
    "                                                       line_search='wolfe', debug=True)\n",
    "toc = time()"
   ]
  },
  {
   "cell_type": "code",
   "execution_count": null,
   "metadata": {},
   "outputs": [],
   "source": [
    "plot_train_test_learning_curve_loss(loss_ts_lbfgs, loss_tr_lbfgs)\n",
    "print \"loss train:\", loss_tr_lbfgs[-1]\n",
    "print \"loss test:\", loss_ts_lbfgs[-1] if len(loss_ts_lbfgs) > 0 else None\n",
    "print \"training time:\", (toc-tic)\n",
    "print \"norm gradient last:\", norm_gradients_lbfgs[-1]\n",
    "print \"iterazioni:\", len(loss_tr_lbfgs)"
   ]
  },
  {
   "cell_type": "markdown",
   "metadata": {},
   "source": [
    "### ML-CUP - optimization plots\n",
    "- $|| \\nabla E(w)||$ vs iterations\n",
    "- $ |E(w) - E(w^*)| $ vs iterations\n",
    "- step size $\\alpha$ vs iterations (only for BFGS and L-BFGS)"
   ]
  },
  {
   "cell_type": "code",
   "execution_count": 32,
   "metadata": {},
   "outputs": [
    {
     "data": {
      "image/png": "[encoded data removed]",
      "text/plain": [
       "<matplotlib.figure.Figure at 0x7fabf4331a10>"
      ]
     },
     "metadata": {},
     "output_type": "display_data"
    },
    {
     "data": {
      "image/png": "[encoded data removed]",
      "text/plain": [
       "<matplotlib.figure.Figure at 0x7fabf2f5fed0>"
      ]
     },
     "metadata": {},
     "output_type": "display_data"
    },
    {
     "data": {
      "image/png": "[encoded data removed]",
      "text/plain": [
       "<matplotlib.figure.Figure at 0x7fabf2f2b4d0>"
      ]
     },
     "metadata": {},
     "output_type": "display_data"
    },
    {
     "data": {
      "image/png": "[encoded data removed]",
      "text/plain": [
       "<matplotlib.figure.Figure at 0x7fabf320bf10>"
      ]
     },
     "metadata": {},
     "output_type": "display_data"
    }
   ],
   "source": [
    "plot_norm_gradient_vs_iterations(norm_gradients_sgd, norm_gradients_bfgs, norm_gradients_lbfgs)\n",
    "plot_relative_gap_vs_iterations(list(loss_tr_sgd), list(loss_tr_bfgs), list(loss_tr_lbfgs))\n",
    "plot_alpha_vs_iterations(alphas_bfgs, alphas_lbfgs)\n",
    "plot_condition_number_vs_iterations(cond_bfgs, cond_lbfgs=None)"
   ]
  },
  {
   "cell_type": "markdown",
   "metadata": {
    "collapsed": true
   },
   "source": [
    "# Grid search"
   ]
  },
  {
   "cell_type": "code",
   "execution_count": null,
   "metadata": {
    "collapsed": true
   },
   "outputs": [],
   "source": [
    "# directory where to save learning curves\n",
    "save_directory = './' \n",
    "# loss to optimize\n",
    "loss = SquaredError(\"tangentH\")"
   ]
  },
  {
   "cell_type": "code",
   "execution_count": null,
   "metadata": {
    "collapsed": true
   },
   "outputs": [],
   "source": [
    "# grid search parameters\n",
    "grid = GridSearchSGDParams(learning_rate = [0.01, 0.001],\n",
    "                           momentum = [0.5, 0.9], \n",
    "                           batch_size = [16, 32], \n",
    "                           architecture = [[17, 10, 1]],\n",
    "                           neurons = [[InputNeuron, TanHNeuron, TanHNeuron]], \n",
    "                           regularization = [0.01, 0.001], \n",
    "                           epoch = 5)\n",
    "\n",
    "# execute grid search\n",
    "grid_search_SGD(grid, loss, train_patterns, train_labels,\n",
    "                test_patterns, test_labels, n_trials=1, save_in_dir=save_directory)"
   ]
  },
  {
   "cell_type": "code",
   "execution_count": null,
   "metadata": {
    "collapsed": true
   },
   "outputs": [],
   "source": [
    "grid = GridSearchBFGSParams(c_1=[0.0001], \n",
    "                            c_2=[0.9], \n",
    "                            theta=[0.9], \n",
    "                            regularization=[0.001], \n",
    "                            epsilon=[0.001, 0.0001],\n",
    "                            epoch=5,\n",
    "                            architecture = [[17, 10, 1]],\n",
    "                            neurons = [[InputNeuron, TanHNeuron, TanHNeuron]])         \n",
    "\n",
    "grid_search_BFGS(grid, loss, train_patterns, train_labels,\n",
    "                 test_patterns, test_labels, n_trials=2, save_in_dir=save_directory)"
   ]
  },
  {
   "cell_type": "code",
   "execution_count": null,
   "metadata": {
    "collapsed": true
   },
   "outputs": [],
   "source": [
    "grid = GridSearchLBFGSParams(c_1=[0.0001], \n",
    "                            c_2=[0.9], \n",
    "                            theta=[0.9], \n",
    "                            regularization=[0.001], \n",
    "                            epsilon=[0.001, 0.0001],\n",
    "                            m=[10, 20],\n",
    "                            epoch=5,\n",
    "                            architecture = [[17, 10, 1]],\n",
    "                            neurons = [[InputNeuron, TanHNeuron, TanHNeuron]])\n",
    "\n",
    "grid_search_LBFGS(grid, loss, train_patterns, train_labels,\n",
    "                  test_patterns, test_labels,\n",
    "                  n_trials=5, save_in_dir=save_directory)"
   ]
  },
  {
   "cell_type": "markdown",
   "metadata": {},
   "source": [
    "## Save & load network parameters"
   ]
  },
  {
   "cell_type": "code",
   "execution_count": null,
   "metadata": {
    "collapsed": true
   },
   "outputs": [],
   "source": [
    "network = Network([2,5,1], [InputNeuron, TanHNeuron, TanHNeuron])   # random initialized\n",
    "with open(\"test_weights.csv\", \"w\") as out_file:\n",
    "    network.dump_weights(out_file)\n",
    "    \n",
    "network_2 = Network([2,5,1], [InputNeuron, TanHNeuron, TanHNeuron]) # random initialized\n",
    "with open(\"test_weights.csv\", \"r\") as in_file:\n",
    "    network_2.load_weights(in_file)\n",
    "    \n",
    "network.get_weights_as_vector() == network_2.get_weights_as_vector()"
   ]
  },
  {
   "cell_type": "markdown",
   "metadata": {
    "collapsed": true
   },
   "source": [
    "# BFGS vs L-BFGS\n",
    "varying the parameter $m$ of L-BFGS"
   ]
  },
  {
   "cell_type": "code",
   "execution_count": null,
   "metadata": {
    "collapsed": true
   },
   "outputs": [],
   "source": [
    "architecture = [17, 5, 5, 1]\n",
    "neurons = [InputNeuron, TanHNeuron, TanHNeuron, TanHNeuron]\n",
    "loss_object = SquaredError(\"tangentH\")\n",
    "\n",
    "c_1 = 1e-4\n",
    "c_2 = 0.7\n",
    "theta = 0.7\n",
    "lambda_ = 0\n",
    "epsilon = 1e-5\n",
    "epochs = 200\n",
    "network_to_copy = Network(architecture, neurons)"
   ]
  },
  {
   "cell_type": "code",
   "execution_count": null,
   "metadata": {
    "collapsed": true
   },
   "outputs": [],
   "source": [
    "# L-BFGS training\n",
    "m_values = [1, 3, 5, 7, 9, 11, 13, 15, 17]\n",
    "time_lbfgs = []\n",
    "norm_gradient_lbfgs = []\n",
    "losses_lbfgs = []\n",
    "iters_lbfgs = []\n",
    "\n",
    "for m_value in m_values:\n",
    "    print m_value\n",
    "    network = copy.deepcopy(network_to_copy)\n",
    "    tic = time()\n",
    "    loss_tr, _, _, _, _, norm_gradients, cond = network.train_LBFGS(X_train, Y_train,\n",
    "                                                        X_test, Y_test,\n",
    "                                                        theta=theta, \n",
    "                                                        c_1=c_1, \n",
    "                                                        c_2=c_2, \n",
    "                                                        lossObject=loss_object,\n",
    "                                                        regularization=lambda_, \n",
    "                                                        epochs=epochs, \n",
    "                                                        epsilon=epsilon, m=m_value)\n",
    "    toc = time()\n",
    "    \n",
    "    # append results\n",
    "    time_lbfgs.append(toc-tic)\n",
    "    norm_gradient_lbfgs.append(norm_gradients)\n",
    "    losses_lbfgs.append(loss_tr)\n",
    "    iters_lbfgs.append(len(norm_gradients))"
   ]
  },
  {
   "cell_type": "code",
   "execution_count": null,
   "metadata": {
    "collapsed": true
   },
   "outputs": [],
   "source": [
    "# BFGS train\n",
    "network = copy.deepcopy(network_to_copy)\n",
    "tic = time()\n",
    "loss_tr_bfgs, _, _, _, _, norm_gradients_bfgs, cond = network.train_BFGS(X_train, Y_train,\n",
    "                                                        X_test, Y_test,\n",
    "                                                        theta=theta, \n",
    "                                                        c_1=c_1, \n",
    "                                                        c_2=c_2, \n",
    "                                                        lossObject=loss_object,\n",
    "                                                        regularization=lambda_, \n",
    "                                                        epochs=epochs, \n",
    "                                                        epsilon=epsilon)\n",
    "toc = time()\n",
    "\n",
    "time_bfgs = toc-tic\n",
    "iters_bfgs = len(norm_gradients_bfgs)"
   ]
  },
  {
   "cell_type": "code",
   "execution_count": null,
   "metadata": {
    "collapsed": true
   },
   "outputs": [],
   "source": [
    "# time to reach the norm of the gradient less than epsilon\n",
    "d = {'m': m_values, 'time': np.round(time_lbfgs,2), 'iters': iters_lbfgs, \\\n",
    "     'loss': [l[-1] for l in losses_lbfgs]}\n",
    "print 'L-BFGS\\n', pd.DataFrame(d, index=m_values)\n",
    "print 'BFGS time:', round(time_bfgs,2), 'iters:', iters_bfgs, 'loss:', loss_tr_bfgs[-1]"
   ]
  },
  {
   "cell_type": "code",
   "execution_count": null,
   "metadata": {
    "collapsed": true
   },
   "outputs": [],
   "source": [
    "plt.plot(range(iters_bfgs), norm_gradients_bfgs, label='bfgs', color='black', linewidth=2)\n",
    "for m, gnorm, iters in zip(m_values, norm_gradient_lbfgs, iters_lbfgs):\n",
    "    plt.plot(range(iters), gnorm, '--', label='l-bfgs, m='+str(m))\n",
    "    \n",
    "plt.legend(loc='right', bbox_to_anchor=(1.3, 0.7),\n",
    "          ncol=1, fancybox=True, shadow=True)\n",
    "plt.xscale('log')\n",
    "plt.yscale('log')\n",
    "plt.xlabel('Iterazioni')\n",
    "plt.ylabel(r'$||\\nabla E(w)||$')\n",
    "plt.show()"
   ]
  },
  {
   "cell_type": "code",
   "execution_count": null,
   "metadata": {
    "collapsed": true
   },
   "outputs": [],
   "source": [
    "plt.plot(range(iters_bfgs), loss_tr_bfgs, label='bfgs', color='black', linewidth=2)\n",
    "for m, loss, iters in zip(m_values, losses_lbfgs, iters_lbfgs):\n",
    "    plt.plot(range(iters), loss, '--', label='l-bfgs, m='+str(m))\n",
    "    \n",
    "plt.legend(loc='right', bbox_to_anchor=(1.3, 0.7),\n",
    "          ncol=1, fancybox=True, shadow=True)\n",
    "plt.xscale('log')\n",
    "plt.yscale('log')\n",
    "plt.xlabel('Iterazioni')\n",
    "plt.ylabel(r'$E(w)$')\n",
    "plt.show()"
   ]
  },
  {
   "cell_type": "code",
   "execution_count": null,
   "metadata": {
    "collapsed": true
   },
   "outputs": [],
   "source": []
  },
  {
   "cell_type": "code",
   "execution_count": null,
   "metadata": {
    "collapsed": true
   },
   "outputs": [],
   "source": []
  }
 ],
 "metadata": {
  "kernelspec": {
   "display_name": "Python 2",
   "language": "python",
   "name": "python2"
  },
  "language_info": {
   "codemirror_mode": {
    "name": "ipython",
    "version": 2
   },
   "file_extension": ".py",
   "mimetype": "text/x-python",
   "name": "python",
   "nbconvert_exporter": "python",
   "pygments_lexer": "ipython2",
   "version": "2.7.14"
  }
 },
 "nbformat": 4,
 "nbformat_minor": 2
}
