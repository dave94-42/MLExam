{
 "cells": [
  {
   "cell_type": "code",
   "execution_count": 1,
   "metadata": {
    "collapsed": true
   },
   "outputs": [],
   "source": [
    "from Validation import *\n",
    "from time import time\n",
    "from utils import *\n",
    "from grid_search import GridSearchSGDParams, grid_search_SGD\n",
    "from Neural_network import *"
   ]
  },
  {
   "cell_type": "markdown",
   "metadata": {},
   "source": [
    "### Load  Monk dataset"
   ]
  },
  {
   "cell_type": "code",
   "execution_count": 2,
   "metadata": {
    "collapsed": true
   },
   "outputs": [],
   "source": [
    "# chose monk dataset\n",
    "monk = str(1)"
   ]
  },
  {
   "cell_type": "code",
   "execution_count": 3,
   "metadata": {},
   "outputs": [],
   "source": [
    "columns = ['label', 'f1', 'f2', 'f3', 'f4', 'f5', 'f6', 'id']\n",
    "\n",
    "# 1. traning set\n",
    "train_file = \"../monk_datasets/monks-\" + monk + \".train\"\n",
    "train_data = pd.read_csv(train_file, delim_whitespace=True, header=None)\n",
    "train_data.columns = columns\n",
    "\n",
    "# 2. test set\n",
    "test_file = \"../monk_datasets/monks-\" + monk + \".test\"\n",
    "test_data = pd.read_csv(test_file, delim_whitespace=True, header=None)\n",
    "test_data.columns = columns\n",
    "\n",
    "# 3. getting patterns and labels\n",
    "encoding = [3, 3, 2, 3, 4, 2]\n",
    "features = ['f1', 'f2', 'f3', 'f4', 'f5', 'f6']\n",
    "train_patterns, test_patterns = decode_patterns(encoding, features, train_data, test_data)\n",
    "train_labels, test_labels = transform_labels(train_data, test_data)"
   ]
  },
  {
   "cell_type": "markdown",
   "metadata": {},
   "source": [
    "# SGD"
   ]
  },
  {
   "cell_type": "markdown",
   "metadata": {},
   "source": [
    "### SGD - define network and parameters"
   ]
  },
  {
   "cell_type": "code",
   "execution_count": null,
   "metadata": {
    "collapsed": true
   },
   "outputs": [],
   "source": [
    "# define architecture and hyperparameters\n",
    "architecture = [17, 20, 10, 1]\n",
    "neurons = [InputNeuron, TanHNeuron, TanHNeuron, TanHNeuron]\n",
    "network = Network(architecture, neurons)\n",
    "loss_object = SquaredError(\"tangentH\")\n",
    "epochs = 30\n",
    "learning_rate = 0.01\n",
    "batch_size = 16\n",
    "momentum = 0.9\n",
    "regularization = 0.05"
   ]
  },
  {
   "cell_type": "markdown",
   "metadata": {},
   "source": [
    "### SGD - train"
   ]
  },
  {
   "cell_type": "code",
   "execution_count": null,
   "metadata": {},
   "outputs": [],
   "source": [
    "tic = time()\n",
    "# 5. train\n",
    "loss_train, misclass_train, \\\n",
    "loss_test, misclass_test = network.train(data=train_patterns, \n",
    "                                         targets=train_labels, \n",
    "                                         eval_data=test_patterns,\n",
    "                                         eval_targets=test_labels,\n",
    "                                         lossObject=loss_object,\n",
    "                                         epochs=epochs, \n",
    "                                         learning_rate=learning_rate, \n",
    "                                         batch_size=batch_size,\n",
    "                                         momentum=momentum, \n",
    "                                        regularization=regularization)\n",
    "toc = time()"
   ]
  },
  {
   "cell_type": "markdown",
   "metadata": {},
   "source": [
    "### SGD - learning curves"
   ]
  },
  {
   "cell_type": "code",
   "execution_count": null,
   "metadata": {},
   "outputs": [],
   "source": [
    "plot_train_test_learning_curve(loss_test, loss_train, misclass_test, misclass_train)"
   ]
  },
  {
   "cell_type": "code",
   "execution_count": null,
   "metadata": {},
   "outputs": [],
   "source": [
    "print \"accuracy train:\", 1 - misclass_train[-1]\n",
    "print \"accuracy test:\", 1 - misclass_test[-1]\n",
    "print \"squared error train:\", loss_train[-1]\n",
    "print \"squared error test:\", loss_test[-1]\n",
    "print \"training time:\", (toc-tic)"
   ]
  },
  {
   "cell_type": "markdown",
   "metadata": {},
   "source": [
    "# BFGS"
   ]
  },
  {
   "cell_type": "markdown",
   "metadata": {},
   "source": [
    "### BFGS - define network and parameters"
   ]
  },
  {
   "cell_type": "code",
   "execution_count": 20,
   "metadata": {},
   "outputs": [],
   "source": [
    "architecture = [17, 20, 10, 1]\n",
    "neurons = [InputNeuron, TanHNeuron, TanHNeuron, TanHNeuron]\n",
    "loss_object = SquaredError(\"tangentH\")\n",
    "c_1 = 1e-2\n",
    "c_2 = 0.9\n",
    "theta = 0.9\n",
    "lambda_ = 5 * 1e-2\n",
    "epsilon = 1e-3\n",
    "epochs = 50\n",
    "\n",
    "network = Network(architecture, neurons)"
   ]
  },
  {
   "cell_type": "markdown",
   "metadata": {},
   "source": [
    "### BFGS - train"
   ]
  },
  {
   "cell_type": "code",
   "execution_count": 21,
   "metadata": {},
   "outputs": [
    {
     "name": "stdout",
     "output_type": "stream",
     "text": [
      "epoch\tMSE\t\t\tmisclass\t\tnorm(g)\t\tnorm(h)\t\trho\t\t\talpha\n",
      "---------------------------------------------------------------------------\n",
      "1\t\t1.226131\t0.500000\t\t1.191141\t24.141918\t1.287131\t0.500000\n",
      "2\t\t1.138608\t0.370968\t\t1.130215\t24.215377\t0.882956\t1.000000\n",
      "3\t\t0.918116\t0.298387\t\t0.778704\t24.260092\t2.843602\t0.500000\n",
      "4\t\t0.728836\t0.241935\t\t0.665608\t24.291937\t1.346309\t1.000000\n",
      "5\t\t0.645647\t0.241935\t\t0.794310\t24.394817\t4.324693\t1.000000\n",
      "6\t\t0.641002\t0.193548\t\t0.795617\t24.418701\t2.046439\t1.000000\n",
      "7\t\t0.481077\t0.145161\t\t0.342425\t24.427988\t4.652286\t1.000000\n",
      "8\t\t0.438388\t0.129032\t\t0.316390\t24.535168\t9.541028\t1.000000\n",
      "9\t\t0.403943\t0.096774\t\t0.372549\t25.484889\t18.219661\t1.000000\n",
      "10\t\t0.374400\t0.096774\t\t0.316313\t26.848980\t11.329488\t1.000000\n",
      "11\t\t0.334152\t0.064516\t\t0.193422\t29.024242\t26.832754\t1.000000\n",
      "12\t\t0.303479\t0.064516\t\t0.148509\t30.873619\t14.527022\t1.000000\n",
      "13\t\t0.291389\t0.064516\t\t0.118395\t35.657355\t77.205503\t1.000000\n",
      "14\t\t0.280152\t0.064516\t\t0.091384\t47.690317\t135.009062\t1.000000\n",
      "15\t\t0.266690\t0.064516\t\t0.117201\t52.146446\t33.814495\t1.000000\n",
      "16\t\t0.260757\t0.064516\t\t0.064767\t73.240733\t253.355870\t1.000000\n",
      "17\t\t0.228031\t0.064516\t\t0.116309\t950.544984\t223.349643\t1.111111\n",
      "18\t\t0.216471\t0.056452\t\t0.324424\t83.926944\t21.184666\t0.062500\n",
      "19\t\t0.186154\t0.032258\t\t0.292643\t148.065819\t255.137161\t1.000000\n",
      "20\t\t0.156409\t0.032258\t\t0.343169\t69.277795\t6.373837\t0.250000\n",
      "21\t\t0.125464\t0.008065\t\t0.196896\t66.237139\t10.762443\t1.000000\n",
      "22\t\t0.103257\t0.008065\t\t0.224912\t66.463754\t23.210609\t1.000000\n",
      "23\t\t0.081842\t0.000000\t\t0.083603\t59.671668\t23.066767\t1.000000\n",
      "24\t\t0.075172\t0.000000\t\t0.038724\t75.828507\t222.443930\t1.000000\n",
      "25\t\t0.070180\t0.000000\t\t0.026639\t122.043346\t274.612388\t1.000000\n",
      "26\t\t0.067074\t0.000000\t\t0.034011\t173.666213\t392.067929\t1.000000\n",
      "27\t\t0.064779\t0.000000\t\t0.038685\t210.390030\t641.543872\t1.000000\n",
      "28\t\t0.061995\t0.000000\t\t0.035983\t221.860727\t500.740102\t1.000000\n",
      "29\t\t0.059002\t0.000000\t\t0.033730\t191.309311\t459.141024\t1.000000\n",
      "30\t\t0.055738\t0.000000\t\t0.027214\t211.216201\t469.773407\t1.000000\n",
      "31\t\t0.053579\t0.000000\t\t0.019227\t237.118819\t553.756611\t1.000000\n",
      "32\t\t0.052719\t0.000000\t\t0.016880\t218.225131\t1216.159874\t1.000000\n",
      "33\t\t0.052201\t0.000000\t\t0.015075\t270.673783\t2752.870294\t1.000000\n",
      "34\t\t0.051633\t0.000000\t\t0.021573\t171.210487\t1114.879404\t1.000000\n",
      "35\t\t0.050623\t0.000000\t\t0.019174\t177.195594\t743.336561\t1.000000\n",
      "36\t\t0.049819\t0.000000\t\t0.016516\t266.451620\t5529.329208\t1.000000\n",
      "37\t\t0.047778\t0.000000\t\t0.019100\t195.823148\t551.298447\t0.750000\n",
      "38\t\t0.046887\t0.000000\t\t0.037416\t186.173935\t509.461520\t1.000000\n",
      "39\t\t0.046471\t0.000000\t\t0.027085\t109.417809\t456.311960\t0.500000\n",
      "40\t\t0.045991\t0.000000\t\t0.017989\t115.266284\t4184.496565\t1.000000\n",
      "41\t\t0.044670\t0.000000\t\t0.018477\t158.612395\t1276.788421\t1.000000\n",
      "42\t\t0.043081\t0.000000\t\t0.031900\t184.369115\t639.433508\t1.000000\n",
      "43\t\t0.042080\t0.000000\t\t0.028550\t139.117505\t461.508987\t1.000000\n",
      "44\t\t0.041391\t0.000000\t\t0.018656\t137.138343\t895.015547\t1.000000\n",
      "45\t\t0.040869\t0.000000\t\t0.017242\t238.610423\t9094.542361\t1.000000\n",
      "46\t\t0.039321\t0.000000\t\t0.033517\t219.401196\t334.538193\t1.000000\n",
      "47\t\t0.037860\t0.000000\t\t0.020761\t351.969591\t1624.788026\t1.000000\n",
      "48\t\t0.035714\t0.000000\t\t0.064788\t241.244920\t149.659248\t1.000000\n",
      "49\t\t0.034255\t0.000000\t\t0.023006\t240.705466\t272.604356\t1.000000\n",
      "50\t\t0.033821\t0.000000\t\t0.026051\t585.549446\t9802.887284\t1.000000\n"
     ]
    }
   ],
   "source": [
    "tic = time()\n",
    "loss_tr, miss_tr, loss_ts, miss_ts = network.trainBFGS(train_patterns, train_labels, \n",
    "                                                       test_patterns, test_labels,\n",
    "                                                       theta=theta, c_1=c_1, c_2=c_2, \n",
    "                                                       lossObject=loss_object, \n",
    "                                                       regularization=lambda_, \n",
    "                                                       epochs=epochs, epsilon=epsilon)\n",
    "toc = time()"
   ]
  },
  {
   "cell_type": "markdown",
   "metadata": {},
   "source": [
    "### BFGS - learning curves"
   ]
  },
  {
   "cell_type": "code",
   "execution_count": 24,
   "metadata": {},
   "outputs": [
    {
     "data": {
      "image/png": "[encoded data removed]",
      "text/plain": [
       "<matplotlib.figure.Figure at 0x7f84df8ace50>"
      ]
     },
     "metadata": {},
     "output_type": "display_data"
    },
    {
     "data": {
      "image/png": "[encoded data removed]",
      "text/plain": [
       "<matplotlib.figure.Figure at 0x7f84df9356d0>"
      ]
     },
     "metadata": {},
     "output_type": "display_data"
    }
   ],
   "source": [
    "plot_train_test_learning_curve(loss_ts, loss_tr, miss_ts, miss_tr)"
   ]
  },
  {
   "cell_type": "code",
   "execution_count": 23,
   "metadata": {},
   "outputs": [
    {
     "name": "stdout",
     "output_type": "stream",
     "text": [
      "accuracy train: 1.0\n",
      "accuracy test: 0.99537037037\n",
      "squared error train: 0.0338206548221\n",
      "squared error test: 0.0171323085308\n",
      "training time: 32.5598299503\n"
     ]
    }
   ],
   "source": [
    "print \"accuracy train:\", 1 - miss_tr[-1]\n",
    "print \"accuracy test:\", 1 - miss_ts[-1]\n",
    "print \"squared error train:\", loss_tr[-1]\n",
    "print \"squared error test:\", loss_ts[-1]\n",
    "print \"training time:\", (toc-tic)"
   ]
  },
  {
   "cell_type": "code",
   "execution_count": null,
   "metadata": {
    "collapsed": true
   },
   "outputs": [],
   "source": []
  }
 ],
 "metadata": {
  "kernelspec": {
   "display_name": "Python 2",
   "language": "python",
   "name": "python2"
  },
  "language_info": {
   "codemirror_mode": {
    "name": "ipython",
    "version": 2
   },
   "file_extension": ".py",
   "mimetype": "text/x-python",
   "name": "python",
   "nbconvert_exporter": "python",
   "pygments_lexer": "ipython2",
   "version": "2.7.14"
  }
 },
 "nbformat": 4,
 "nbformat_minor": 2
}
