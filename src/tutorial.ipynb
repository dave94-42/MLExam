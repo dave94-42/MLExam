{
 "cells": [
  {
   "cell_type": "markdown",
   "metadata": {},
   "source": [
    "# Tutorial\n",
    "- Train / test on ML-Cup dataset\n",
    "    - SGD\n",
    "    - BFGS\n",
    "    - L-BFGS\n",
    "\n",
    "- Perform grid search\n",
    "    - SGD\n",
    "    - BFGS\n",
    "    - L-BFGS\n",
    "- Save and load network parametes"
   ]
  },
  {
   "cell_type": "code",
   "execution_count": 1,
   "metadata": {
    "collapsed": true
   },
   "outputs": [],
   "source": [
    "from Validation import *\n",
    "from time import time\n",
    "from utils import *\n",
    "from grid_search import *\n",
    "from Neural_network import *"
   ]
  },
  {
   "cell_type": "markdown",
   "metadata": {},
   "source": [
    "# Monk 1,2,3 with SGD, BFGS and L-BFGS"
   ]
  },
  {
   "cell_type": "markdown",
   "metadata": {},
   "source": [
    "### Load  Monk dataset"
   ]
  },
  {
   "cell_type": "code",
   "execution_count": 5,
   "metadata": {
    "collapsed": true
   },
   "outputs": [],
   "source": [
    "# choose monk dataset\n",
    "monk = str(3)\n",
    "columns = ['label', 'f1', 'f2', 'f3', 'f4', 'f5', 'f6', 'id']\n",
    "\n",
    "# 1. traning set\n",
    "train_file = \"../monk_datasets/monks-\" + monk + \".train\"\n",
    "train_data = pd.read_csv(train_file, delim_whitespace=True, header=None)\n",
    "train_data.columns = columns\n",
    "\n",
    "# 2. test set\n",
    "test_file = \"../monk_datasets/monks-\" + monk + \".test\"\n",
    "test_data = pd.read_csv(test_file, delim_whitespace=True, header=None)\n",
    "test_data.columns = columns\n",
    "\n",
    "# 3. getting patterns and labels\n",
    "encoding = [3, 3, 2, 3, 4, 2]\n",
    "features = ['f1', 'f2', 'f3', 'f4', 'f5', 'f6']\n",
    "X_train, X_test = decode_patterns(encoding, features, train_data, test_data)\n",
    "Y_train, Y_test = transform_labels(train_data, test_data)"
   ]
  },
  {
   "cell_type": "markdown",
   "metadata": {
    "collapsed": true
   },
   "source": [
    "--------------------------------------\n",
    "# ML-Cup with SGD, BFGS and L-BFGS"
   ]
  },
  {
   "cell_type": "markdown",
   "metadata": {},
   "source": [
    "### Load ML-Cup dataset"
   ]
  },
  {
   "cell_type": "markdown",
   "metadata": {
    "collapsed": true
   },
   "source": [
    "   "
   ]
  },
  {
   "cell_type": "code",
   "execution_count": 5,
   "metadata": {
    "collapsed": true
   },
   "outputs": [],
   "source": [
    "# 1. read file train set\n",
    "df = pd.read_csv(\"../MLCup/ML-CUP17-TR_shuffled.csv\", comment='#')\n",
    "features_col = [\"input1\",\"input2\",\"input3\",\"input4\",\"input5\",\n",
    "                \"input6\",\"input7\", \"input8\",\"input9\",\"input10\"]\n",
    "targets_col = [\"target_x\", \"target_y\"]\n",
    "\n",
    "# 2. divide pattern and targets\n",
    "patterns,labels = divide_patterns_labels(df,features_col,targets_col)\n",
    "\n",
    "# 3. divide in development set and test set\n",
    "X_train, Y_train, X_test, Y_test = holdout_cup(patterns,labels, fraction_tr=0.8)"
   ]
  },
  {
   "cell_type": "markdown",
   "metadata": {},
   "source": [
    "## SGD - cup"
   ]
  },
  {
   "cell_type": "code",
   "execution_count": 9,
   "metadata": {
    "collapsed": true
   },
   "outputs": [],
   "source": [
    "architecture = [17, 10, 10, 2] #[17, 100, 50, 2]\n",
    "neurons = [InputNeuron, TanHNeuron, TanHNeuron, OutputNeuron]\n",
    "loss_object = EuclideanError()\n",
    "\n",
    "learning_rate = 0.01\n",
    "momentum = 0.9\n",
    "lambda_ = 0#1 * 1e-3\n",
    "batch_size = len(X_train)\n",
    "epsilon = 1e-5\n",
    "epochs = 10#7000\n",
    "\n",
    "network = Network(architecture, neurons)"
   ]
  },
  {
   "cell_type": "code",
   "execution_count": 10,
   "metadata": {
    "collapsed": true
   },
   "outputs": [],
   "source": [
    "tic = time()\n",
    "# 5. train\n",
    "loss_tr_sgd, miss_train, \\\n",
    "loss_ts_sgd, miss_test, norm_gradients_sgd = network.train_SGD(x_train=X_train, \n",
    "                                         y_train=Y_train, \n",
    "                                         x_test=X_test,\n",
    "                                         y_test=Y_test,\n",
    "                                         lossObject=loss_object,\n",
    "                                         epochs=epochs, \n",
    "                                         learning_rate=learning_rate, \n",
    "                                         batch_size=batch_size,\n",
    "                                         momentum=momentum, \n",
    "                                        regularization=lambda_, epsilon=epsilon)\n",
    "toc = time()"
   ]
  },
  {
   "cell_type": "code",
   "execution_count": 11,
   "metadata": {},
   "outputs": [
    {
     "data": {
      "image/png": "[encoded data removed]",
      "text/plain": [
       "<matplotlib.figure.Figure at 0x7fb68ab8ec50>"
      ]
     },
     "metadata": {},
     "output_type": "display_data"
    },
    {
     "data": {
      "image/png": "[encoded data removed]",
      "text/plain": [
       "<matplotlib.figure.Figure at 0x7fb68aaaf090>"
      ]
     },
     "metadata": {},
     "output_type": "display_data"
    },
    {
     "name": "stdout",
     "output_type": "stream",
     "text": [
      "loss train: 7.22907582215\n",
      "loss test: 8.11006869413\n",
      "training time: 4.55464315414\n",
      "norm gradient last: 37.3552934082\n"
     ]
    }
   ],
   "source": [
    "plot_train_test_learning_curve(loss_ts_sgd, loss_tr_sgd, miss_test, miss_train)\n",
    "print \"loss train:\", loss_tr_sgd[-1]\n",
    "print \"loss test:\", loss_ts_sgd[-1]\n",
    "print \"training time:\", (toc-tic)\n",
    "print \"norm gradient last:\", norm_gradients_sgd[-1]"
   ]
  },
  {
   "cell_type": "markdown",
   "metadata": {},
   "source": [
    "## BFGS - cup"
   ]
  },
  {
   "cell_type": "code",
   "execution_count": 12,
   "metadata": {
    "collapsed": true
   },
   "outputs": [],
   "source": [
    "architecture = [17, 10, 10, 2]\n",
    "neurons = [InputNeuron, TanHNeuron, TanHNeuron, OutputNeuron]\n",
    "loss_object = EuclideanError()\n",
    "\n",
    "c_1 = 1e-4\n",
    "c_2 = 0.9\n",
    "theta = 0.9\n",
    "lambda_ = 0\n",
    "epsilon = 1 * 1e-5\n",
    "epochs = 500"
   ]
  },
  {
   "cell_type": "code",
   "execution_count": 13,
   "metadata": {
    "scrolled": false
   },
   "outputs": [
    {
     "name": "stdout",
     "output_type": "stream",
     "text": [
      "0 out of 500\n",
      "1 out of 500\n",
      "2 out of 500\n",
      "3 out of 500\n",
      "4 out of 500\n",
      "5 out of 500\n",
      "6 out of 500\n",
      "7 out of 500\n",
      "8 out of 500\n",
      "9 out of 500\n",
      "10 out of 500\n",
      "11 out of 500\n",
      "12 out of 500\n",
      "13 out of 500\n",
      "14 out of 500\n",
      "15 out of 500\n",
      "16 out of 500\n",
      "17 out of 500\n",
      "18 out of 500\n",
      "19 out of 500\n",
      "20 out of 500\n",
      "21 out of 500\n",
      "22 out of 500\n",
      "23 out of 500\n",
      "24 out of 500\n",
      "25 out of 500\n",
      "26 out of 500\n",
      "27 out of 500\n",
      "28 out of 500\n",
      "29 out of 500\n",
      "30 out of 500\n",
      "31 out of 500\n",
      "32 out of 500\n",
      "33 out of 500\n",
      "34 out of 500\n",
      "35 out of 500\n",
      "36 out of 500\n",
      "37 out of 500\n",
      "38 out of 500\n",
      "39 out of 500\n",
      "40 out of 500\n",
      "41 out of 500\n",
      "42 out of 500\n",
      "43 out of 500\n",
      "44 out of 500\n",
      "45 out of 500\n",
      "46 out of 500\n",
      "47 out of 500\n",
      "48 out of 500\n",
      "49 out of 500\n",
      "50 out of 500\n",
      "51 out of 500\n",
      "52 out of 500\n",
      "53 out of 500\n",
      "54 out of 500\n",
      "55 out of 500\n",
      "56 out of 500\n",
      "57 out of 500\n",
      "58 out of 500\n",
      "59 out of 500\n",
      "60 out of 500\n",
      "61 out of 500\n",
      "62 out of 500\n",
      "63 out of 500\n",
      "64 out of 500\n",
      "65 out of 500\n",
      "66 out of 500\n",
      "67 out of 500\n",
      "zoom - interval too small\n",
      "stop: line search, epoch 67\n"
     ]
    }
   ],
   "source": [
    "network = Network(architecture, neurons)\n",
    "\n",
    "tic = time()\n",
    "loss_tr_bfgs, miss_tr, \\\n",
    "loss_ts_bfgs, miss_ts, alphas_bfgs, \\\n",
    "norm_gradients_bfgs, cond_bfgs = network.train_BFGS(X_train, Y_train, \n",
    "                                                       X_test, Y_test,\n",
    "                                                       theta=theta, c_1=c_1, c_2=c_2, \n",
    "                                                       lossObject=loss_object, \n",
    "                                                       regularization=lambda_, \n",
    "                                                       epochs=epochs, epsilon=epsilon,\n",
    "                                                       line_search='wolfe', debug=False)\n",
    "toc = time()"
   ]
  },
  {
   "cell_type": "code",
   "execution_count": 16,
   "metadata": {
    "scrolled": true
   },
   "outputs": [
    {
     "data": {
      "image/png": "[encoded data removed]",
      "text/plain": [
       "<matplotlib.figure.Figure at 0x7fb68aa9f250>"
      ]
     },
     "metadata": {},
     "output_type": "display_data"
    },
    {
     "data": {
      "image/png": "[encoded data removed]",
      "text/plain": [
       "<matplotlib.figure.Figure at 0x7fb68ac86290>"
      ]
     },
     "metadata": {},
     "output_type": "display_data"
    },
    {
     "name": "stdout",
     "output_type": "stream",
     "text": [
      "loss train: 1.31010718952\n",
      "loss test: 1.48948205964\n",
      "training time: 202.754987955\n",
      "norm gradient last: 0.399889938926\n"
     ]
    }
   ],
   "source": [
    "plot_train_test_learning_curve(loss_ts_bfgs, loss_tr_bfgs, miss_ts, miss_tr)\n",
    "print \"loss train:\", loss_tr_bfgs[-1]\n",
    "print \"loss test:\", loss_ts_bfgs[-1]\n",
    "print \"training time:\", (toc-tic)\n",
    "print \"norm gradient last:\", norm_gradients_bfgs[-1]"
   ]
  },
  {
   "cell_type": "markdown",
   "metadata": {},
   "source": [
    "## L-BFGS - cup"
   ]
  },
  {
   "cell_type": "code",
   "execution_count": 6,
   "metadata": {
    "collapsed": true
   },
   "outputs": [],
   "source": [
    "architecture = [17, 10, 10, 2]\n",
    "neurons = [InputNeuron, TanHNeuron, TanHNeuron, OutputNeuron]\n",
    "loss_object = EuclideanError()\n",
    "\n",
    "c_1 = 1e-4\n",
    "c_2 = 0.9\n",
    "theta = 0.5\n",
    "lambda_ = 0\n",
    "epsilon = 1e-5\n",
    "epochs = 500\n",
    "m = 10\n",
    "\n",
    "network = Network(architecture, neurons)"
   ]
  },
  {
   "cell_type": "code",
   "execution_count": 7,
   "metadata": {},
   "outputs": [
    {
     "name": "stdout",
     "output_type": "stream",
     "text": [
      "0 out of 500\n",
      "1 out of 500\n",
      "2 out of 500\n",
      "3 out of 500\n",
      "4 out of 500\n",
      "5 out of 500\n",
      "6 out of 500\n",
      "7 out of 500\n",
      "8 out of 500\n",
      "9 out of 500\n",
      "10 out of 500\n",
      "11 out of 500\n",
      "12 out of 500\n",
      "13 out of 500\n",
      "14 out of 500\n",
      "15 out of 500\n",
      "16 out of 500\n",
      "17 out of 500\n",
      "18 out of 500\n",
      "19 out of 500\n",
      "20 out of 500\n",
      "21 out of 500\n",
      "22 out of 500\n",
      "23 out of 500\n",
      "24 out of 500\n",
      "25 out of 500\n",
      "26 out of 500\n",
      "27 out of 500\n",
      "28 out of 500\n",
      "29 out of 500\n",
      "30 out of 500\n",
      "31 out of 500\n",
      "32 out of 500\n",
      "33 out of 500\n",
      "34 out of 500\n",
      "35 out of 500\n",
      "36 out of 500\n",
      "37 out of 500\n",
      "38 out of 500\n",
      "39 out of 500\n",
      "40 out of 500\n",
      "41 out of 500\n",
      "42 out of 500\n",
      "43 out of 500\n",
      "44 out of 500\n",
      "45 out of 500\n",
      "46 out of 500\n",
      "47 out of 500\n",
      "48 out of 500\n",
      "49 out of 500\n",
      "50 out of 500\n",
      "51 out of 500\n",
      "52 out of 500\n",
      "53 out of 500\n",
      "54 out of 500\n",
      "55 out of 500\n",
      "56 out of 500\n",
      "57 out of 500\n",
      "58 out of 500\n",
      "59 out of 500\n",
      "60 out of 500\n",
      "61 out of 500\n",
      "62 out of 500\n",
      "63 out of 500\n",
      "64 out of 500\n",
      "65 out of 500\n",
      "66 out of 500\n",
      "67 out of 500\n",
      "68 out of 500\n",
      "69 out of 500\n",
      "70 out of 500\n",
      "71 out of 500\n",
      "72 out of 500\n",
      "73 out of 500\n",
      "74 out of 500\n",
      "75 out of 500\n",
      "76 out of 500\n",
      "77 out of 500\n",
      "78 out of 500\n",
      "79 out of 500\n",
      "80 out of 500\n",
      "81 out of 500\n",
      "82 out of 500\n",
      "83 out of 500\n",
      "84 out of 500\n",
      "85 out of 500\n",
      "86 out of 500\n",
      "87 out of 500\n",
      "88 out of 500\n",
      "89 out of 500\n",
      "90 out of 500\n",
      "91 out of 500\n",
      "92 out of 500\n",
      "93 out of 500\n",
      "94 out of 500\n",
      "95 out of 500\n",
      "96 out of 500\n",
      "97 out of 500\n",
      "98 out of 500\n",
      "99 out of 500\n",
      "100 out of 500\n",
      "101 out of 500\n",
      "102 out of 500\n",
      "103 out of 500\n",
      "104 out of 500\n",
      "105 out of 500\n",
      "106 out of 500\n",
      "107 out of 500\n",
      "108 out of 500\n",
      "109 out of 500\n",
      "110 out of 500\n",
      "111 out of 500\n",
      "112 out of 500\n",
      "113 out of 500\n",
      "114 out of 500\n",
      "115 out of 500\n",
      "116 out of 500\n",
      "117 out of 500\n",
      "118 out of 500\n",
      "119 out of 500\n",
      "120 out of 500\n",
      "121 out of 500\n",
      "122 out of 500\n",
      "123 out of 500\n",
      "124 out of 500\n",
      "125 out of 500\n",
      "126 out of 500\n",
      "127 out of 500\n",
      "128 out of 500\n",
      "129 out of 500\n",
      "130 out of 500\n",
      "131 out of 500\n",
      "132 out of 500\n",
      "133 out of 500\n",
      "134 out of 500\n",
      "135 out of 500\n",
      "136 out of 500\n",
      "137 out of 500\n",
      "138 out of 500\n",
      "139 out of 500\n",
      "zoom - interval too small\n",
      "stop: line search, epoch 139\n"
     ]
    }
   ],
   "source": [
    "tic = time()\n",
    "loss_tr_lbfgs, miss_tr, \\\n",
    "loss_ts_lbfgs, miss_ts, alphas_lbfgs, \\\n",
    "norm_gradients_lbfgs, cond_lbfgs = network.train_LBFGS(X_train, Y_train,\n",
    "                                                        X_test, Y_test,\n",
    "                                                        theta=theta, \n",
    "                                                        c_1=c_1, \n",
    "                                                        c_2=c_2, \n",
    "                                                        lossObject=loss_object,\n",
    "                                                        regularization=lambda_, \n",
    "                                                        epochs=epochs, \n",
    "                                                        epsilon=epsilon, m=m, \n",
    "                                                        line_search='wolfe', debug=False)\n",
    "toc = time()"
   ]
  },
  {
   "cell_type": "code",
   "execution_count": 8,
   "metadata": {},
   "outputs": [
    {
     "data": {
      "image/png": "[encoded data removed]",
      "text/plain": [
       "<matplotlib.figure.Figure at 0x7f9bead39310>"
      ]
     },
     "metadata": {},
     "output_type": "display_data"
    },
    {
     "data": {
      "image/png": "[encoded data removed]",
      "text/plain": [
       "<matplotlib.figure.Figure at 0x7f9be30c3f50>"
      ]
     },
     "metadata": {},
     "output_type": "display_data"
    },
    {
     "name": "stdout",
     "output_type": "stream",
     "text": [
      "loss train: 1.10789610764\n",
      "loss test: 1.26676602109\n",
      "training time: 207.531506062\n",
      "norm gradient last: 0.980389703396\n"
     ]
    }
   ],
   "source": [
    "plot_train_test_learning_curve(loss_ts_lbfgs, loss_tr_lbfgs, miss_ts, miss_tr)\n",
    "print \"loss train:\", loss_tr_lbfgs[-1]\n",
    "print \"loss test:\", loss_ts_lbfgs[-1]\n",
    "print \"training time:\", (toc-tic)\n",
    "print \"norm gradient last:\", norm_gradients_lbfgs[-1]"
   ]
  },
  {
   "cell_type": "markdown",
   "metadata": {},
   "source": [
    "### ML-CUP - optimization plots\n",
    "- $|| \\nabla E(w)||$ vs iterations\n",
    "- $ |E(w) - E(w^*)| $ vs iterations\n",
    "- step size $\\alpha$ vs iterations (only for BFGS and L-BFGS)"
   ]
  },
  {
   "cell_type": "code",
   "execution_count": 13,
   "metadata": {},
   "outputs": [
    {
     "data": {
      "image/png": "[encoded data removed]",
      "text/plain": [
       "<matplotlib.figure.Figure at 0x7f62768e2c50>"
      ]
     },
     "metadata": {},
     "output_type": "display_data"
    },
    {
     "data": {
      "image/png": "[encoded data removed]",
      "text/plain": [
       "<matplotlib.figure.Figure at 0x7f627f3728d0>"
      ]
     },
     "metadata": {},
     "output_type": "display_data"
    },
    {
     "data": {
      "image/png": "[encoded data removed]",
      "text/plain": [
       "<matplotlib.figure.Figure at 0x7f6276a7ae10>"
      ]
     },
     "metadata": {},
     "output_type": "display_data"
    },
    {
     "data": {
      "image/png": "[encoded data removed]",
      "text/plain": [
       "<matplotlib.figure.Figure at 0x7f62769ad5d0>"
      ]
     },
     "metadata": {},
     "output_type": "display_data"
    }
   ],
   "source": [
    "plot_norm_gradient_vs_iterations(norm_gradients_sgd, norm_gradients_bfgs, norm_gradients_lbfgs)\n",
    "plot_relative_gap_vs_iterations(list(loss_tr_sgd), list(loss_tr_bfgs), list(loss_tr_lbfgs))\n",
    "plot_alpha_vs_iterations(alphas_bfgs, alphas_lbfgs)\n",
    "plot_condition_number_vs_iterations(cond_bfgs, cond_lbfgs=None)"
   ]
  },
  {
   "cell_type": "markdown",
   "metadata": {
    "collapsed": true
   },
   "source": [
    "# Grid search"
   ]
  },
  {
   "cell_type": "code",
   "execution_count": null,
   "metadata": {
    "collapsed": true
   },
   "outputs": [],
   "source": [
    "# directory where to save learning curves\n",
    "save_directory = './' \n",
    "# loss to optimize\n",
    "loss = SquaredError(\"tangentH\")"
   ]
  },
  {
   "cell_type": "code",
   "execution_count": null,
   "metadata": {
    "collapsed": true
   },
   "outputs": [],
   "source": [
    "# grid search parameters\n",
    "grid = GridSearchSGDParams(learning_rate = [0.01, 0.001],\n",
    "                           momentum = [0.5, 0.9], \n",
    "                           batch_size = [16, 32], \n",
    "                           architecture = [[17, 10, 1]],\n",
    "                           neurons = [[InputNeuron, TanHNeuron, TanHNeuron]], \n",
    "                           regularization = [0.01, 0.001], \n",
    "                           epoch = 5)\n",
    "\n",
    "# execute grid search\n",
    "grid_search_SGD(grid, loss, train_patterns, train_labels,\n",
    "                test_patterns, test_labels, n_trials=1, save_in_dir=save_directory)"
   ]
  },
  {
   "cell_type": "code",
   "execution_count": null,
   "metadata": {
    "collapsed": true
   },
   "outputs": [],
   "source": [
    "grid = GridSearchBFGSParams(c_1=[0.0001], \n",
    "                            c_2=[0.9], \n",
    "                            theta=[0.9], \n",
    "                            regularization=[0.001], \n",
    "                            epsilon=[0.001, 0.0001],\n",
    "                            epoch=5,\n",
    "                            architecture = [[17, 10, 1]],\n",
    "                            neurons = [[InputNeuron, TanHNeuron, TanHNeuron]])         \n",
    "\n",
    "grid_search_BFGS(grid, loss, train_patterns, train_labels,\n",
    "                 test_patterns, test_labels, n_trials=2, save_in_dir=save_directory)"
   ]
  },
  {
   "cell_type": "code",
   "execution_count": null,
   "metadata": {
    "collapsed": true
   },
   "outputs": [],
   "source": [
    "grid = GridSearchLBFGSParams(c_1=[0.0001], \n",
    "                            c_2=[0.9], \n",
    "                            theta=[0.9], \n",
    "                            regularization=[0.001], \n",
    "                            epsilon=[0.001, 0.0001],\n",
    "                            m=[10, 20],\n",
    "                            epoch=5,\n",
    "                            architecture = [[17, 10, 1]],\n",
    "                            neurons = [[InputNeuron, TanHNeuron, TanHNeuron]])\n",
    "\n",
    "grid_search_LBFGS(grid, loss, train_patterns, train_labels,\n",
    "                  test_patterns, test_labels,\n",
    "                  n_trials=5, save_in_dir=save_directory)"
   ]
  },
  {
   "cell_type": "markdown",
   "metadata": {},
   "source": [
    "## Save & load network parameters"
   ]
  },
  {
   "cell_type": "code",
   "execution_count": null,
   "metadata": {
    "collapsed": true
   },
   "outputs": [],
   "source": [
    "network = Network([2,5,1], [InputNeuron, TanHNeuron, TanHNeuron])   # random initialized\n",
    "with open(\"test_weights.csv\", \"w\") as out_file:\n",
    "    network.dump_weights(out_file)\n",
    "    \n",
    "network_2 = Network([2,5,1], [InputNeuron, TanHNeuron, TanHNeuron]) # random initialized\n",
    "with open(\"test_weights.csv\", \"r\") as in_file:\n",
    "    network_2.load_weights(in_file)\n",
    "    \n",
    "network.get_weights_as_vector() == network_2.get_weights_as_vector()"
   ]
  },
  {
   "cell_type": "markdown",
   "metadata": {
    "collapsed": true
   },
   "source": [
    "# BFGS vs L-BFGS\n",
    "varying the parameter $m$ of L-BFGS"
   ]
  },
  {
   "cell_type": "code",
   "execution_count": 13,
   "metadata": {
    "collapsed": true
   },
   "outputs": [],
   "source": [
    "architecture = [17, 5, 5, 1]\n",
    "neurons = [InputNeuron, TanHNeuron, TanHNeuron, TanHNeuron]\n",
    "loss_object = SquaredError(\"tangentH\")\n",
    "\n",
    "c_1 = 1e-4\n",
    "c_2 = 0.7\n",
    "theta = 0.7\n",
    "lambda_ = 0\n",
    "epsilon = 1e-5\n",
    "epochs = 200\n",
    "network_to_copy = Network(architecture, neurons)"
   ]
  },
  {
   "cell_type": "code",
   "execution_count": 14,
   "metadata": {},
   "outputs": [
    {
     "name": "stdout",
     "output_type": "stream",
     "text": [
      "1\n",
      "0 out of 200\n",
      "1 out of 200\n",
      "2 out of 200\n",
      "3 out of 200\n",
      "4 out of 200\n",
      "5 out of 200\n",
      "6 out of 200\n",
      "7 out of 200\n",
      "8 out of 200\n",
      "9 out of 200\n",
      "10 out of 200\n",
      "11 out of 200\n",
      "12 out of 200\n",
      "13 out of 200\n",
      "14 out of 200\n",
      "15 out of 200\n",
      "16 out of 200\n",
      "17 out of 200\n",
      "18 out of 200\n",
      "19 out of 200\n",
      "20 out of 200\n",
      "21 out of 200\n",
      "22 out of 200\n",
      "23 out of 200\n",
      "24 out of 200\n",
      "25 out of 200\n",
      "26 out of 200\n",
      "27 out of 200\n",
      "28 out of 200\n",
      "29 out of 200\n",
      "30 out of 200\n",
      "31 out of 200\n",
      "32 out of 200\n",
      "33 out of 200\n",
      "34 out of 200\n",
      "35 out of 200\n",
      "36 out of 200\n",
      "37 out of 200\n",
      "38 out of 200\n",
      "39 out of 200\n",
      "40 out of 200\n",
      "41 out of 200\n",
      "42 out of 200\n",
      "43 out of 200\n",
      "44 out of 200\n",
      "45 out of 200\n",
      "46 out of 200\n",
      "47 out of 200\n",
      "48 out of 200\n",
      "49 out of 200\n",
      "50 out of 200\n",
      "51 out of 200\n",
      "52 out of 200\n",
      "53 out of 200\n",
      "54 out of 200\n",
      "55 out of 200\n",
      "56 out of 200\n",
      "57 out of 200\n",
      "58 out of 200\n",
      "59 out of 200\n",
      "60 out of 200\n",
      "61 out of 200\n",
      "62 out of 200\n",
      "63 out of 200\n",
      "64 out of 200\n",
      "65 out of 200\n",
      "66 out of 200\n",
      "67 out of 200\n",
      "68 out of 200\n",
      "69 out of 200\n",
      "70 out of 200\n",
      "71 out of 200\n",
      "72 out of 200\n",
      "73 out of 200\n",
      "74 out of 200\n",
      "75 out of 200\n",
      "76 out of 200\n",
      "77 out of 200\n",
      "78 out of 200\n",
      "79 out of 200\n",
      "80 out of 200\n",
      "81 out of 200\n",
      "82 out of 200\n",
      "83 out of 200\n",
      "84 out of 200\n",
      "85 out of 200\n",
      "86 out of 200\n",
      "87 out of 200\n",
      "88 out of 200\n",
      "89 out of 200\n",
      "90 out of 200\n",
      "91 out of 200\n",
      "92 out of 200\n",
      "93 out of 200\n",
      "94 out of 200\n",
      "95 out of 200\n",
      "96 out of 200\n",
      "97 out of 200\n",
      "98 out of 200\n",
      "99 out of 200\n",
      "100 out of 200\n",
      "101 out of 200\n",
      "102 out of 200\n",
      "103 out of 200\n",
      "104 out of 200\n",
      "105 out of 200\n",
      "106 out of 200\n",
      "107 out of 200\n",
      "108 out of 200\n",
      "109 out of 200\n",
      "110 out of 200\n",
      "111 out of 200\n",
      "stop: norm gradient, epoch 111\n",
      "3\n",
      "0 out of 200\n",
      "1 out of 200\n",
      "2 out of 200\n",
      "3 out of 200\n",
      "4 out of 200\n",
      "5 out of 200\n",
      "6 out of 200\n",
      "7 out of 200\n",
      "8 out of 200\n",
      "9 out of 200\n",
      "10 out of 200\n",
      "11 out of 200\n",
      "12 out of 200\n",
      "13 out of 200\n",
      "14 out of 200\n",
      "15 out of 200\n",
      "16 out of 200\n",
      "17 out of 200\n",
      "18 out of 200\n",
      "19 out of 200\n",
      "20 out of 200\n",
      "21 out of 200\n",
      "22 out of 200\n",
      "23 out of 200\n",
      "24 out of 200\n",
      "25 out of 200\n",
      "26 out of 200\n",
      "27 out of 200\n",
      "28 out of 200\n",
      "29 out of 200\n",
      "30 out of 200\n",
      "31 out of 200\n",
      "32 out of 200\n",
      "33 out of 200\n",
      "34 out of 200\n",
      "35 out of 200\n",
      "36 out of 200\n",
      "37 out of 200\n",
      "38 out of 200\n",
      "39 out of 200\n",
      "40 out of 200\n",
      "41 out of 200\n",
      "42 out of 200\n",
      "43 out of 200\n",
      "44 out of 200\n",
      "45 out of 200\n",
      "46 out of 200\n",
      "47 out of 200\n",
      "48 out of 200\n",
      "49 out of 200\n",
      "50 out of 200\n",
      "51 out of 200\n",
      "52 out of 200\n",
      "53 out of 200\n",
      "54 out of 200\n",
      "55 out of 200\n",
      "56 out of 200\n",
      "57 out of 200\n",
      "58 out of 200\n",
      "59 out of 200\n",
      "60 out of 200\n",
      "61 out of 200\n",
      "62 out of 200\n",
      "63 out of 200\n",
      "64 out of 200\n",
      "65 out of 200\n",
      "66 out of 200\n",
      "67 out of 200\n",
      "68 out of 200\n",
      "69 out of 200\n",
      "70 out of 200\n",
      "71 out of 200\n",
      "stop: norm gradient, epoch 71\n",
      "5\n",
      "0 out of 200\n",
      "1 out of 200\n",
      "2 out of 200\n",
      "3 out of 200\n",
      "4 out of 200\n",
      "5 out of 200\n",
      "6 out of 200\n",
      "7 out of 200\n",
      "8 out of 200\n",
      "9 out of 200\n",
      "10 out of 200\n",
      "11 out of 200\n",
      "12 out of 200\n",
      "13 out of 200\n",
      "14 out of 200\n",
      "15 out of 200\n",
      "16 out of 200\n",
      "17 out of 200\n",
      "18 out of 200\n",
      "19 out of 200\n",
      "20 out of 200\n",
      "21 out of 200\n",
      "22 out of 200\n",
      "23 out of 200\n",
      "24 out of 200\n",
      "25 out of 200\n",
      "26 out of 200\n",
      "27 out of 200\n",
      "28 out of 200\n",
      "29 out of 200\n",
      "30 out of 200\n",
      "31 out of 200\n",
      "32 out of 200\n",
      "33 out of 200\n",
      "34 out of 200\n",
      "35 out of 200\n",
      "36 out of 200\n",
      "37 out of 200\n",
      "38 out of 200\n",
      "39 out of 200\n",
      "40 out of 200\n",
      "41 out of 200\n",
      "42 out of 200\n",
      "43 out of 200\n",
      "44 out of 200\n",
      "45 out of 200\n",
      "46 out of 200\n",
      "47 out of 200\n",
      "48 out of 200\n",
      "49 out of 200\n",
      "50 out of 200\n",
      "51 out of 200\n",
      "52 out of 200\n",
      "53 out of 200\n",
      "54 out of 200\n",
      "55 out of 200\n",
      "56 out of 200\n",
      "57 out of 200\n",
      "58 out of 200\n",
      "59 out of 200\n",
      "60 out of 200\n",
      "stop: norm gradient, epoch 60\n",
      "7\n",
      "0 out of 200\n",
      "1 out of 200\n",
      "2 out of 200\n",
      "3 out of 200\n",
      "4 out of 200\n",
      "5 out of 200\n",
      "6 out of 200\n",
      "7 out of 200\n",
      "8 out of 200\n",
      "9 out of 200\n",
      "10 out of 200\n",
      "11 out of 200\n",
      "12 out of 200\n",
      "13 out of 200\n",
      "14 out of 200\n",
      "15 out of 200\n",
      "16 out of 200\n",
      "17 out of 200\n",
      "18 out of 200\n",
      "19 out of 200\n",
      "20 out of 200\n",
      "21 out of 200\n",
      "22 out of 200\n",
      "23 out of 200\n",
      "24 out of 200\n",
      "25 out of 200\n",
      "26 out of 200\n",
      "27 out of 200\n",
      "28 out of 200\n",
      "29 out of 200\n",
      "30 out of 200\n",
      "31 out of 200\n",
      "32 out of 200\n",
      "33 out of 200\n",
      "34 out of 200\n",
      "35 out of 200\n",
      "stop: norm gradient, epoch 35\n",
      "9\n",
      "0 out of 200\n",
      "1 out of 200\n",
      "2 out of 200\n",
      "3 out of 200\n",
      "4 out of 200\n",
      "5 out of 200\n",
      "6 out of 200\n",
      "7 out of 200\n",
      "8 out of 200\n",
      "9 out of 200\n",
      "10 out of 200\n",
      "11 out of 200\n",
      "12 out of 200\n",
      "13 out of 200\n",
      "14 out of 200\n",
      "15 out of 200\n",
      "16 out of 200\n",
      "17 out of 200\n",
      "18 out of 200\n",
      "19 out of 200\n",
      "20 out of 200\n",
      "21 out of 200\n",
      "22 out of 200\n",
      "23 out of 200\n",
      "24 out of 200\n",
      "25 out of 200\n",
      "26 out of 200\n",
      "27 out of 200\n",
      "28 out of 200\n",
      "29 out of 200\n",
      "30 out of 200\n",
      "31 out of 200\n",
      "32 out of 200\n",
      "33 out of 200\n",
      "34 out of 200\n",
      "stop: norm gradient, epoch 34\n",
      "11\n",
      "0 out of 200\n",
      "1 out of 200\n",
      "2 out of 200\n",
      "3 out of 200\n",
      "4 out of 200\n",
      "5 out of 200\n",
      "6 out of 200\n",
      "7 out of 200\n",
      "8 out of 200\n",
      "9 out of 200\n",
      "10 out of 200\n",
      "11 out of 200\n",
      "12 out of 200\n",
      "13 out of 200\n",
      "14 out of 200\n",
      "15 out of 200\n",
      "16 out of 200\n",
      "17 out of 200\n",
      "18 out of 200\n",
      "19 out of 200\n",
      "20 out of 200\n",
      "21 out of 200\n",
      "22 out of 200\n",
      "23 out of 200\n",
      "24 out of 200\n",
      "25 out of 200\n",
      "26 out of 200\n",
      "27 out of 200\n",
      "28 out of 200\n",
      "29 out of 200\n",
      "30 out of 200\n",
      "31 out of 200\n",
      "32 out of 200\n",
      "33 out of 200\n",
      "stop: norm gradient, epoch 33\n",
      "13\n",
      "0 out of 200\n",
      "1 out of 200\n",
      "2 out of 200\n",
      "3 out of 200\n",
      "4 out of 200\n",
      "5 out of 200\n",
      "6 out of 200\n",
      "7 out of 200\n",
      "8 out of 200\n",
      "9 out of 200\n",
      "10 out of 200\n",
      "11 out of 200\n",
      "12 out of 200\n",
      "13 out of 200\n",
      "14 out of 200\n",
      "15 out of 200\n",
      "16 out of 200\n",
      "17 out of 200\n",
      "18 out of 200\n",
      "19 out of 200\n",
      "20 out of 200\n",
      "21 out of 200\n",
      "22 out of 200\n",
      "23 out of 200\n",
      "24 out of 200\n",
      "25 out of 200\n",
      "26 out of 200\n",
      "27 out of 200\n",
      "28 out of 200\n",
      "29 out of 200\n",
      "30 out of 200\n",
      "31 out of 200\n",
      "32 out of 200\n",
      "33 out of 200\n",
      "34 out of 200\n",
      "35 out of 200\n",
      "stop: norm gradient, epoch 35\n",
      "15\n",
      "0 out of 200\n",
      "1 out of 200\n",
      "2 out of 200\n",
      "3 out of 200\n",
      "4 out of 200\n",
      "5 out of 200\n",
      "6 out of 200\n",
      "7 out of 200\n",
      "8 out of 200\n",
      "9 out of 200\n",
      "10 out of 200\n",
      "11 out of 200\n",
      "12 out of 200\n",
      "13 out of 200\n",
      "14 out of 200\n",
      "15 out of 200\n",
      "16 out of 200\n",
      "17 out of 200\n",
      "18 out of 200\n",
      "19 out of 200\n",
      "20 out of 200\n",
      "21 out of 200\n",
      "22 out of 200\n",
      "23 out of 200\n",
      "24 out of 200\n",
      "25 out of 200\n",
      "26 out of 200\n",
      "27 out of 200\n",
      "28 out of 200\n",
      "29 out of 200\n",
      "30 out of 200\n",
      "31 out of 200\n",
      "32 out of 200\n",
      "stop: norm gradient, epoch 32\n",
      "17\n",
      "0 out of 200\n",
      "1 out of 200\n",
      "2 out of 200\n",
      "3 out of 200\n",
      "4 out of 200\n",
      "5 out of 200\n",
      "6 out of 200\n",
      "7 out of 200\n",
      "8 out of 200\n",
      "9 out of 200\n",
      "10 out of 200\n",
      "11 out of 200\n",
      "12 out of 200\n",
      "13 out of 200\n",
      "14 out of 200\n",
      "15 out of 200\n",
      "16 out of 200\n",
      "17 out of 200\n",
      "18 out of 200\n",
      "19 out of 200\n",
      "20 out of 200\n",
      "21 out of 200\n",
      "22 out of 200\n",
      "23 out of 200\n",
      "24 out of 200\n",
      "25 out of 200\n",
      "26 out of 200\n",
      "27 out of 200\n",
      "28 out of 200\n",
      "29 out of 200\n",
      "30 out of 200\n",
      "31 out of 200\n",
      "32 out of 200\n",
      "stop: norm gradient, epoch 32\n"
     ]
    }
   ],
   "source": [
    "# L-BFGS training\n",
    "m_values = [1, 3, 5, 7, 9, 11, 13, 15, 17]\n",
    "time_lbfgs = []\n",
    "norm_gradient_lbfgs = []\n",
    "losses_lbfgs = []\n",
    "iters_lbfgs = []\n",
    "\n",
    "for m_value in m_values:\n",
    "    print m_value\n",
    "    network = copy.deepcopy(network_to_copy)\n",
    "    tic = time()\n",
    "    loss_tr, _, _, _, _, norm_gradients, cond = network.train_LBFGS(X_train, Y_train,\n",
    "                                                        X_test, Y_test,\n",
    "                                                        theta=theta, \n",
    "                                                        c_1=c_1, \n",
    "                                                        c_2=c_2, \n",
    "                                                        lossObject=loss_object,\n",
    "                                                        regularization=lambda_, \n",
    "                                                        epochs=epochs, \n",
    "                                                        epsilon=epsilon, m=m_value)\n",
    "    toc = time()\n",
    "    \n",
    "    # append results\n",
    "    time_lbfgs.append(toc-tic)\n",
    "    norm_gradient_lbfgs.append(norm_gradients)\n",
    "    losses_lbfgs.append(loss_tr)\n",
    "    iters_lbfgs.append(len(norm_gradients))"
   ]
  },
  {
   "cell_type": "code",
   "execution_count": 15,
   "metadata": {},
   "outputs": [
    {
     "name": "stdout",
     "output_type": "stream",
     "text": [
      "0 out of 200\n",
      "1 out of 200\n",
      "2 out of 200\n",
      "3 out of 200\n",
      "4 out of 200\n",
      "5 out of 200\n",
      "6 out of 200\n",
      "7 out of 200\n",
      "8 out of 200\n",
      "9 out of 200\n",
      "10 out of 200\n",
      "11 out of 200\n",
      "12 out of 200\n",
      "13 out of 200\n",
      "14 out of 200\n",
      "15 out of 200\n",
      "16 out of 200\n",
      "17 out of 200\n",
      "18 out of 200\n",
      "19 out of 200\n",
      "20 out of 200\n",
      "21 out of 200\n",
      "22 out of 200\n",
      "23 out of 200\n",
      "24 out of 200\n",
      "25 out of 200\n",
      "26 out of 200\n",
      "27 out of 200\n",
      "28 out of 200\n",
      "29 out of 200\n",
      "30 out of 200\n",
      "31 out of 200\n",
      "32 out of 200\n",
      "33 out of 200\n",
      "34 out of 200\n",
      "35 out of 200\n",
      "36 out of 200\n",
      "37 out of 200\n",
      "38 out of 200\n",
      "39 out of 200\n",
      "40 out of 200\n",
      "41 out of 200\n",
      "42 out of 200\n",
      "43 out of 200\n",
      "44 out of 200\n",
      "45 out of 200\n",
      "46 out of 200\n",
      "47 out of 200\n",
      "48 out of 200\n",
      "49 out of 200\n",
      "50 out of 200\n",
      "51 out of 200\n",
      "52 out of 200\n",
      "53 out of 200\n",
      "54 out of 200\n",
      "55 out of 200\n",
      "56 out of 200\n",
      "57 out of 200\n",
      "58 out of 200\n",
      "59 out of 200\n",
      "60 out of 200\n",
      "61 out of 200\n",
      "62 out of 200\n",
      "63 out of 200\n",
      "64 out of 200\n",
      "65 out of 200\n",
      "66 out of 200\n",
      "67 out of 200\n",
      "68 out of 200\n",
      "69 out of 200\n",
      "70 out of 200\n",
      "71 out of 200\n",
      "72 out of 200\n",
      "73 out of 200\n",
      "74 out of 200\n",
      "75 out of 200\n",
      "76 out of 200\n",
      "77 out of 200\n",
      "78 out of 200\n",
      "79 out of 200\n",
      "80 out of 200\n",
      "81 out of 200\n",
      "82 out of 200\n",
      "83 out of 200\n",
      "84 out of 200\n",
      "85 out of 200\n",
      "86 out of 200\n",
      "87 out of 200\n",
      "88 out of 200\n",
      "89 out of 200\n",
      "90 out of 200\n",
      "91 out of 200\n",
      "92 out of 200\n",
      "93 out of 200\n",
      "94 out of 200\n",
      "95 out of 200\n",
      "96 out of 200\n",
      "97 out of 200\n",
      "98 out of 200\n",
      "99 out of 200\n",
      "100 out of 200\n",
      "101 out of 200\n",
      "102 out of 200\n",
      "103 out of 200\n",
      "104 out of 200\n",
      "105 out of 200\n",
      "106 out of 200\n",
      "107 out of 200\n",
      "108 out of 200\n",
      "109 out of 200\n",
      "110 out of 200\n",
      "111 out of 200\n",
      "112 out of 200\n",
      "113 out of 200\n",
      "114 out of 200\n",
      "115 out of 200\n",
      "stop: gradient norm, epoch 115\n"
     ]
    }
   ],
   "source": [
    "# BFGS train\n",
    "network = copy.deepcopy(network_to_copy)\n",
    "tic = time()\n",
    "loss_tr_bfgs, _, _, _, _, norm_gradients_bfgs, cond = network.train_BFGS(X_train, Y_train,\n",
    "                                                        X_test, Y_test,\n",
    "                                                        theta=theta, \n",
    "                                                        c_1=c_1, \n",
    "                                                        c_2=c_2, \n",
    "                                                        lossObject=loss_object,\n",
    "                                                        regularization=lambda_, \n",
    "                                                        epochs=epochs, \n",
    "                                                        epsilon=epsilon)\n",
    "toc = time()\n",
    "\n",
    "time_bfgs = toc-tic\n",
    "iters_bfgs = len(norm_gradients_bfgs)"
   ]
  },
  {
   "cell_type": "code",
   "execution_count": 16,
   "metadata": {},
   "outputs": [
    {
     "name": "stdout",
     "output_type": "stream",
     "text": [
      "L-BFGS\n",
      "    iters          loss   m   time\n",
      "1     113  3.340232e-07   1  22.56\n",
      "3      73  4.882094e-07   3  12.26\n",
      "5      62  3.278728e-02   5  11.58\n",
      "7      37  6.557404e-02   7   5.56\n",
      "9      36  6.557429e-02   9   5.58\n",
      "11     35  6.557431e-02  11   5.68\n",
      "13     37  6.557382e-02  13   5.58\n",
      "15     34  6.557433e-02  15   4.91\n",
      "17     34  6.557431e-02  17   5.04\n",
      "BFGS time: 20.3 iters: 117 loss: 0.0327870747548\n"
     ]
    }
   ],
   "source": [
    "# time to reach the norm of the gradient less than epsilon\n",
    "d = {'m': m_values, 'time': np.round(time_lbfgs,2), 'iters': iters_lbfgs, \\\n",
    "     'loss': [l[-1] for l in losses_lbfgs]}\n",
    "print 'L-BFGS\\n', pd.DataFrame(d, index=m_values)\n",
    "print 'BFGS time:', round(time_bfgs,2), 'iters:', iters_bfgs, 'loss:', loss_tr_bfgs[-1]"
   ]
  },
  {
   "cell_type": "code",
   "execution_count": 17,
   "metadata": {},
   "outputs": [
    {
     "data": {
      "image/png": "[encoded data removed]",
      "text/plain": [
       "<matplotlib.figure.Figure at 0x7f64bdf7fe90>"
      ]
     },
     "metadata": {},
     "output_type": "display_data"
    }
   ],
   "source": [
    "plt.plot(range(iters_bfgs), norm_gradients_bfgs, label='bfgs', color='black', linewidth=2)\n",
    "for m, gnorm, iters in zip(m_values, norm_gradient_lbfgs, iters_lbfgs):\n",
    "    plt.plot(range(iters), gnorm, '--', label='l-bfgs, m='+str(m))\n",
    "    \n",
    "plt.legend(loc='right', bbox_to_anchor=(1.3, 0.7),\n",
    "          ncol=1, fancybox=True, shadow=True)\n",
    "plt.xscale('log')\n",
    "plt.yscale('log')\n",
    "plt.xlabel('Iterazioni')\n",
    "plt.ylabel(r'$||\\nabla E(w)||$')\n",
    "plt.show()"
   ]
  },
  {
   "cell_type": "code",
   "execution_count": 18,
   "metadata": {},
   "outputs": [
    {
     "data": {
      "image/png": "[encoded data removed]",
      "text/plain": [
       "<matplotlib.figure.Figure at 0x7f64b5a2a550>"
      ]
     },
     "metadata": {},
     "output_type": "display_data"
    }
   ],
   "source": [
    "plt.plot(range(iters_bfgs), loss_tr_bfgs, label='bfgs', color='black', linewidth=2)\n",
    "for m, loss, iters in zip(m_values, losses_lbfgs, iters_lbfgs):\n",
    "    plt.plot(range(iters), loss, '--', label='l-bfgs, m='+str(m))\n",
    "    \n",
    "plt.legend(loc='right', bbox_to_anchor=(1.3, 0.7),\n",
    "          ncol=1, fancybox=True, shadow=True)\n",
    "plt.xscale('log')\n",
    "plt.yscale('log')\n",
    "plt.xlabel('Iterazioni')\n",
    "plt.ylabel(r'$E(w)$')\n",
    "plt.show()"
   ]
  },
  {
   "cell_type": "code",
   "execution_count": null,
   "metadata": {
    "collapsed": true
   },
   "outputs": [],
   "source": []
  },
  {
   "cell_type": "code",
   "execution_count": null,
   "metadata": {
    "collapsed": true
   },
   "outputs": [],
   "source": []
  }
 ],
 "metadata": {
  "kernelspec": {
   "display_name": "Python 2",
   "language": "python",
   "name": "python2"
  },
  "language_info": {
   "codemirror_mode": {
    "name": "ipython",
    "version": 2
   },
   "file_extension": ".py",
   "mimetype": "text/x-python",
   "name": "python",
   "nbconvert_exporter": "python",
   "pygments_lexer": "ipython2",
   "version": "2.7.14"
  }
 },
 "nbformat": 4,
 "nbformat_minor": 2
}
