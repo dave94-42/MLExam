{
 "cells": [
  {
   "cell_type": "markdown",
   "metadata": {},
   "source": [
    "# Grid search"
   ]
  },
  {
   "cell_type": "code",
   "execution_count": 2,
   "metadata": {
    "collapsed": true
   },
   "outputs": [],
   "source": [
    "from validation import *\n",
    "from time import time\n",
    "from utils import *\n",
    "from grid_search import *\n",
    "from neural_network import *\n",
    "import os"
   ]
  },
  {
   "cell_type": "markdown",
   "metadata": {},
   "source": [
    "### 1) Load  dataset"
   ]
  },
  {
   "cell_type": "code",
   "execution_count": 8,
   "metadata": {
    "collapsed": true
   },
   "outputs": [],
   "source": [
    "# choose monk dataset\n",
    "monk = str(3)\n",
    "columns = ['label', 'f1', 'f2', 'f3', 'f4', 'f5', 'f6', 'id']\n",
    "\n",
    "# 1. traning set\n",
    "train_file = \"../Data/monk_datasets/monks-\" + monk + \".train\"\n",
    "train_data = pd.read_csv(train_file, delim_whitespace=True, header=None)\n",
    "train_data.columns = columns\n",
    "\n",
    "# 2. test set\n",
    "test_file = \"../Data/monk_datasets/monks-\" + monk + \".test\"\n",
    "test_data = pd.read_csv(test_file, delim_whitespace=True, header=None)\n",
    "test_data.columns = columns\n",
    "\n",
    "# 3. getting patterns and labels\n",
    "encoding = [3, 3, 2, 3, 4, 2]\n",
    "features = ['f1', 'f2', 'f3', 'f4', 'f5', 'f6']\n",
    "x_train, x_test = decode_patterns(encoding, features, train_data, test_data)\n",
    "y_train, y_test = transform_labels(train_data, test_data)"
   ]
  },
  {
   "cell_type": "code",
   "execution_count": 12,
   "metadata": {},
   "outputs": [
    {
     "name": "stdout",
     "output_type": "stream",
     "text": [
      "directory already exists\n"
     ]
    }
   ],
   "source": [
    "# directory where to save learning curves\n",
    "save_directory = '../grid_search_results/' \n",
    "try:\n",
    "    os.mkdir(save_directory)\n",
    "    print 'directory created'\n",
    "except:\n",
    "    print \"directory already exists\"\n",
    "    \n",
    "# loss to optimize\n",
    "loss_obj = SquaredError(\"tangentH\")"
   ]
  },
  {
   "cell_type": "markdown",
   "metadata": {},
   "source": [
    "### 2) Grid Search - SGD"
   ]
  },
  {
   "cell_type": "code",
   "execution_count": 13,
   "metadata": {},
   "outputs": [
    {
     "name": "stdout",
     "output_type": "stream",
     "text": [
      "BEGIN GRID SEARCH SGD: 32 experiments\n",
      "0 out of 32 experiments\n",
      "../grid_search_results/lr_0,01-mo_0,5-bat:16-reg_0,01-arc_[17,10,1,] got MEE (TR/VL) 1.0344009709705566 0.7768995723796688\n",
      "1 out of 32 experiments\n",
      "../grid_search_results/lr_0,01-mo_0,5-bat:32-reg_0,01-arc_[17,10,1,] got MEE (TR/VL) 0.8201062812454402 0.7069172918044404\n",
      "2 out of 32 experiments\n",
      "../grid_search_results/lr_0,01-mo_0,5-bat:16-reg_0,01-arc_[17,10,1,] got MEE (TR/VL) 1.1119825409342727 0.9401418838680042\n",
      "3 out of 32 experiments\n",
      "../grid_search_results/lr_0,01-mo_0,5-bat:32-reg_0,01-arc_[17,10,1,] got MEE (TR/VL) 1.0120499332936752 0.8888782744628367\n",
      "4 out of 32 experiments\n",
      "../grid_search_results/lr_0,01-mo_0,9-bat:16-reg_0,01-arc_[17,10,1,] got MEE (TR/VL) 0.4944230155480285 0.25190723088555056\n",
      "5 out of 32 experiments\n",
      "../grid_search_results/lr_0,01-mo_0,9-bat:32-reg_0,01-arc_[17,10,1,] got MEE (TR/VL) 0.9644491692315423 0.7997994403731745\n",
      "6 out of 32 experiments\n",
      "../grid_search_results/lr_0,01-mo_0,9-bat:16-reg_0,01-arc_[17,10,1,] got MEE (TR/VL) 0.47978715718324666 0.20174980452809196\n",
      "7 out of 32 experiments\n",
      "../grid_search_results/lr_0,01-mo_0,9-bat:32-reg_0,01-arc_[17,10,1,] got MEE (TR/VL) 0.7132442867502179 0.5326063792622023\n",
      "8 out of 32 experiments\n",
      "../grid_search_results/lr_0,001-mo_0,5-bat:16-reg_0,01-arc_[17,10,1,] got MEE (TR/VL) 1.3718800952209815 1.0524628486693435\n",
      "9 out of 32 experiments\n",
      "../grid_search_results/lr_0,001-mo_0,5-bat:32-reg_0,01-arc_[17,10,1,] got MEE (TR/VL) 1.4125889698171143 1.354700398207909\n",
      "10 out of 32 experiments\n",
      "../grid_search_results/lr_0,001-mo_0,5-bat:16-reg_0,01-arc_[17,10,1,] got MEE (TR/VL) 1.3838766775705553 1.336736785836967\n",
      "11 out of 32 experiments\n",
      "../grid_search_results/lr_0,001-mo_0,5-bat:32-reg_0,01-arc_[17,10,1,] got MEE (TR/VL) 1.3128539971889133 1.0431777933918003\n",
      "12 out of 32 experiments\n",
      "../grid_search_results/lr_0,001-mo_0,9-bat:16-reg_0,01-arc_[17,10,1,] got MEE (TR/VL) 1.1206863434284864 0.901617930049404\n",
      "13 out of 32 experiments\n",
      "../grid_search_results/lr_0,001-mo_0,9-bat:32-reg_0,01-arc_[17,10,1,] got MEE (TR/VL) 1.369474062464176 1.2528971426966333\n",
      "14 out of 32 experiments\n",
      "../grid_search_results/lr_0,001-mo_0,9-bat:16-reg_0,01-arc_[17,10,1,] got MEE (TR/VL) 1.1412912324968698 0.9479869845598403\n",
      "15 out of 32 experiments\n",
      "../grid_search_results/lr_0,001-mo_0,9-bat:32-reg_0,01-arc_[17,10,1,] got MEE (TR/VL) 1.1476796664157203 1.007878864432403\n",
      "16 out of 32 experiments\n",
      "../grid_search_results/lr_0,01-mo_0,5-bat:16-reg_0,001-arc_[17,10,1,] got MEE (TR/VL) 0.5660148247366289 0.5000465625514484\n",
      "17 out of 32 experiments\n",
      "../grid_search_results/lr_0,01-mo_0,5-bat:32-reg_0,001-arc_[17,10,1,] got MEE (TR/VL) 0.9400284136136781 0.9545468611111397\n",
      "18 out of 32 experiments\n",
      "../grid_search_results/lr_0,01-mo_0,5-bat:16-reg_0,001-arc_[17,10,1,] got MEE (TR/VL) 0.8331048107617374 0.8383660252947813\n",
      "19 out of 32 experiments\n",
      "../grid_search_results/lr_0,01-mo_0,5-bat:32-reg_0,001-arc_[17,10,1,] got MEE (TR/VL) 0.9909424961865757 1.008691105499431\n",
      "20 out of 32 experiments\n",
      "../grid_search_results/lr_0,01-mo_0,9-bat:16-reg_0,001-arc_[17,10,1,] got MEE (TR/VL) 0.5109187774502091 0.4462108504386527\n",
      "21 out of 32 experiments\n",
      "../grid_search_results/lr_0,01-mo_0,9-bat:32-reg_0,001-arc_[17,10,1,] got MEE (TR/VL) 0.7355307376640755 0.6902018822214004\n",
      "22 out of 32 experiments\n",
      "../grid_search_results/lr_0,01-mo_0,9-bat:16-reg_0,001-arc_[17,10,1,] got MEE (TR/VL) 0.4334409318229507 0.3658351890959591\n",
      "23 out of 32 experiments\n",
      "../grid_search_results/lr_0,01-mo_0,9-bat:32-reg_0,001-arc_[17,10,1,] got MEE (TR/VL) 0.7247390927398607 0.6654759309409447\n",
      "24 out of 32 experiments\n",
      "../grid_search_results/lr_0,001-mo_0,5-bat:16-reg_0,001-arc_[17,10,1,] got MEE (TR/VL) 1.2908218149455595 1.246764761571941\n",
      "25 out of 32 experiments\n",
      "../grid_search_results/lr_0,001-mo_0,5-bat:32-reg_0,001-arc_[17,10,1,] got MEE (TR/VL) 1.1279708482809256 1.07433496184271\n",
      "26 out of 32 experiments\n",
      "../grid_search_results/lr_0,001-mo_0,5-bat:16-reg_0,001-arc_[17,10,1,] got MEE (TR/VL) 1.1095542187621006 1.0795463549656512\n",
      "27 out of 32 experiments\n",
      "../grid_search_results/lr_0,001-mo_0,5-bat:32-reg_0,001-arc_[17,10,1,] got MEE (TR/VL) 1.5772441606908523 1.4737384038322492\n",
      "28 out of 32 experiments\n",
      "../grid_search_results/lr_0,001-mo_0,9-bat:16-reg_0,001-arc_[17,10,1,] got MEE (TR/VL) 1.1645210629431033 1.1968714395311235\n",
      "29 out of 32 experiments\n",
      "../grid_search_results/lr_0,001-mo_0,9-bat:32-reg_0,001-arc_[17,10,1,] got MEE (TR/VL) 0.9122218980121659 0.9385797377343477\n",
      "30 out of 32 experiments\n",
      "../grid_search_results/lr_0,001-mo_0,9-bat:16-reg_0,001-arc_[17,10,1,] got MEE (TR/VL) 0.9123717791508192 0.8160011871693124\n",
      "31 out of 32 experiments\n",
      "../grid_search_results/lr_0,001-mo_0,9-bat:32-reg_0,001-arc_[17,10,1,] got MEE (TR/VL) 1.0347746801548006 0.9863758520651915\n"
     ]
    }
   ],
   "source": [
    "# grid search parameters\n",
    "grid = GridSearchSGDParams(learning_rate = [0.01, 0.001],\n",
    "                           momentum = [0.5, 0.9], \n",
    "                           batch_size = [16, 32], \n",
    "                           architecture = [[17, 10, 1]],\n",
    "                           neurons = [[InputNeuron, TanHNeuron, TanHNeuron]], \n",
    "                           regularization = [0.01, 0.001],\n",
    "                           epsilon=[1e-3, 1e-1],\n",
    "                           epoch = 5)\n",
    "\n",
    "# execute grid search\n",
    "grid_search_SGD(grid, loss_obj, x_train, y_train,\n",
    "                x_test, y_test, n_trials=1, save_in_dir=save_directory)"
   ]
  },
  {
   "cell_type": "markdown",
   "metadata": {},
   "source": [
    "### 3) Grid Search - BFGS"
   ]
  },
  {
   "cell_type": "code",
   "execution_count": 5,
   "metadata": {},
   "outputs": [
    {
     "name": "stdout",
     "output_type": "stream",
     "text": [
      "BEGIN GRID SEARCH BFGS: 4 experiments\n",
      "0 out of 4 experiments\n",
      "./c1_0,001-c2_0,9-theta_0,9-reg_0,001-eps_0,001-arc_[17,10,1,] got MEE (TR/VL) 0.21261376131565807 0.17786009584447265\n",
      "1 out of 4 experiments\n",
      "./c1_0,0001-c2_0,9-theta_0,9-reg_0,001-eps_0,001-arc_[17,10,1,] got MEE (TR/VL) 0.22636727173933543 0.15145661590779444\n",
      "2 out of 4 experiments\n",
      "./c1_0,001-c2_0,9-theta_0,9-reg_0,001-eps_0,0001-arc_[17,10,1,] got MEE (TR/VL) 0.2253811393989905 0.2080183861964685\n",
      "3 out of 4 experiments\n",
      "./c1_0,0001-c2_0,9-theta_0,9-reg_0,001-eps_0,0001-arc_[17,10,1,] got MEE (TR/VL) 0.22909966178543303 0.1463332670163974\n"
     ]
    }
   ],
   "source": [
    "grid = GridSearchBFGSParams(c_1=[0.001, 0.0001], \n",
    "                            c_2=[0.9], \n",
    "                            theta=[0.9], \n",
    "                            regularization=[0.001], \n",
    "                            epsilon=[0.001, 0.0001],\n",
    "                            epoch=5,\n",
    "                            architecture = [[17, 10, 1]],\n",
    "                            neurons = [[InputNeuron, TanHNeuron, TanHNeuron]])         \n",
    "\n",
    "grid_search_BFGS(grid, loss_obj, x_train, y_train,\n",
    "                 x_test, y_test, n_trials=1, save_in_dir=save_directory)"
   ]
  },
  {
   "cell_type": "markdown",
   "metadata": {},
   "source": [
    "### 3) Grid Search - BFGS"
   ]
  },
  {
   "cell_type": "code",
   "execution_count": 7,
   "metadata": {},
   "outputs": [
    {
     "name": "stdout",
     "output_type": "stream",
     "text": [
      "BEGIN GRID SEARCH L-BFGS: 4 experiments\n",
      "0 out of 4 experiments\n",
      "./c1_0,0001-c2_0,9-theta_0,9-reg_0,001-eps_0,001-m_10-arc_[17,10,1,] got MEE (TR/VL) 0.31211754756691457 0.22522630678234545\n",
      "1 out of 4 experiments\n",
      "./c1_0,0001-c2_0,9-theta_0,9-reg_0,001-eps_0,001-m_20-arc_[17,10,1,] got MEE (TR/VL) 0.33563057711772487 0.26933289206838373\n",
      "2 out of 4 experiments\n",
      "./c1_0,0001-c2_0,9-theta_0,9-reg_0,001-eps_0,0001-m_10-arc_[17,10,1,] got MEE (TR/VL) 0.3879346592093303 0.3293884278551989\n",
      "3 out of 4 experiments\n",
      "./c1_0,0001-c2_0,9-theta_0,9-reg_0,001-eps_0,0001-m_20-arc_[17,10,1,] got MEE (TR/VL) 0.349780548429713 0.2503258090428641\n"
     ]
    }
   ],
   "source": [
    "grid = GridSearchLBFGSParams(c_1=[0.0001], \n",
    "                            c_2=[0.9], \n",
    "                            theta=[0.9], \n",
    "                            regularization=[0.001], \n",
    "                            epsilon=[0.001, 0.0001],\n",
    "                            m=[10, 20],\n",
    "                            epoch=5,\n",
    "                            architecture = [[17, 10, 1]],\n",
    "                            neurons = [[InputNeuron, TanHNeuron, TanHNeuron]])\n",
    "\n",
    "grid_search_LBFGS(grid, loss_obj, x_train, y_train,\n",
    "                  x_test, y_test,\n",
    "                  n_trials=5, save_in_dir=save_directory)"
   ]
  },
  {
   "cell_type": "code",
   "execution_count": null,
   "metadata": {
    "collapsed": true
   },
   "outputs": [],
   "source": []
  }
 ],
 "metadata": {
  "kernelspec": {
   "display_name": "Python 2",
   "language": "python",
   "name": "python2"
  },
  "language_info": {
   "codemirror_mode": {
    "name": "ipython",
    "version": 2
   },
   "file_extension": ".py",
   "mimetype": "text/x-python",
   "name": "python",
   "nbconvert_exporter": "python",
   "pygments_lexer": "ipython2",
   "version": "2.7.14"
  }
 },
 "nbformat": 4,
 "nbformat_minor": 2
}
