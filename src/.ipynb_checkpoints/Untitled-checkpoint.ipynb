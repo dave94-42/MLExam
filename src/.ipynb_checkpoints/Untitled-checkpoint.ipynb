{
 "cells": [
  {
   "cell_type": "code",
   "execution_count": 11,
   "metadata": {
    "collapsed": true
   },
   "outputs": [],
   "source": [
    "from Validation import *\n",
    "from time import time\n",
    "from utils import *\n",
    "from grid_search import GridSearchSGDParams, grid_search_SGD\n",
    "from Neural_network import *"
   ]
  },
  {
   "cell_type": "markdown",
   "metadata": {},
   "source": [
    "### Load  Monk dataset"
   ]
  },
  {
   "cell_type": "code",
   "execution_count": 3,
   "metadata": {
    "collapsed": true
   },
   "outputs": [],
   "source": [
    "# chose monk dataset\n",
    "monk = str(1)"
   ]
  },
  {
   "cell_type": "code",
   "execution_count": 4,
   "metadata": {},
   "outputs": [],
   "source": [
    "columns = ['label', 'f1', 'f2', 'f3', 'f4', 'f5', 'f6', 'id']\n",
    "\n",
    "# 1. traning set\n",
    "train_file = \"../monk_datasets/monks-\" + monk + \".train\"\n",
    "train_data = pd.read_csv(train_file, delim_whitespace=True, header=None)\n",
    "train_data.columns = columns\n",
    "\n",
    "# 2. test set\n",
    "test_file = \"../monk_datasets/monks-\" + monk + \".test\"\n",
    "test_data = pd.read_csv(test_file, delim_whitespace=True, header=None)\n",
    "test_data.columns = columns\n",
    "\n",
    "# 3. getting patterns and labels\n",
    "encoding = [3, 3, 2, 3, 4, 2]\n",
    "features = ['f1', 'f2', 'f3', 'f4', 'f5', 'f6']\n",
    "train_patterns, test_patterns = decode_patterns(encoding, features, train_data, test_data)\n",
    "train_labels, test_labels = transform_labels(train_data, test_data)"
   ]
  },
  {
   "cell_type": "markdown",
   "metadata": {},
   "source": [
    "# SGD"
   ]
  },
  {
   "cell_type": "markdown",
   "metadata": {},
   "source": [
    "### SGD - define network and parameters"
   ]
  },
  {
   "cell_type": "code",
   "execution_count": 5,
   "metadata": {
    "collapsed": true
   },
   "outputs": [],
   "source": [
    "# define architecture and hyperparameters\n",
    "architecture = [17, 20, 20, 1]\n",
    "neurons = [InputNeuron, TanHNeuron, TanHNeuron, TanHNeuron]\n",
    "network = Network(architecture, neurons)\n",
    "loss_object = SquaredError(\"tangentH\")\n",
    "epochs = 30\n",
    "learning_rate = 0.01\n",
    "batch_size = 16\n",
    "momentum = 0.7\n",
    "regularization = 0.05"
   ]
  },
  {
   "cell_type": "markdown",
   "metadata": {},
   "source": [
    "### SGD - train"
   ]
  },
  {
   "cell_type": "code",
   "execution_count": 9,
   "metadata": {},
   "outputs": [],
   "source": [
    "tic = time()\n",
    "# 5. train\n",
    "loss_train, misclass_train, loss_test, misclass_test = \\\n",
    "network.train(data=train_patterns, \n",
    "              targets=train_labels, \n",
    "              eval_data=test_patterns,\n",
    "              eval_targets=test_labels,\n",
    "              lossObject=loss_object,\n",
    "              epochs=epochs, \n",
    "              learning_rate=learning_rate, \n",
    "              batch_size=batch_size,\n",
    "              momentum=momentum, \n",
    "              regularization=regularization)\n",
    "toc = time()"
   ]
  },
  {
   "cell_type": "code",
   "execution_count": 13,
   "metadata": {},
   "outputs": [
    {
     "ename": "NameError",
     "evalue": "name 'plot_train_test_loss_acc' is not defined",
     "output_type": "error",
     "traceback": [
      "\u001b[0;31m---------------------------------------------------------------------------\u001b[0m",
      "\u001b[0;31mNameError\u001b[0m                                 Traceback (most recent call last)",
      "\u001b[0;32m<ipython-input-13-d0142ab1cabe>\u001b[0m in \u001b[0;36m<module>\u001b[0;34m()\u001b[0m\n\u001b[0;32m----> 1\u001b[0;31m \u001b[0mplot_train_test_loss_acc\u001b[0m\u001b[0;34m(\u001b[0m\u001b[0mloss_test\u001b[0m\u001b[0;34m,\u001b[0m \u001b[0mloss_train\u001b[0m\u001b[0;34m,\u001b[0m \u001b[0mmisclass_test\u001b[0m\u001b[0;34m,\u001b[0m \u001b[0mmisclass_train\u001b[0m\u001b[0;34m)\u001b[0m\u001b[0;34m\u001b[0m\u001b[0m\n\u001b[0m",
      "\u001b[0;31mNameError\u001b[0m: name 'plot_train_test_loss_acc' is not defined"
     ]
    }
   ],
   "source": [
    "plot_train_test_loss_acc(loss_test, loss_train, misclass_test, misclass_train)"
   ]
  }
 ],
 "metadata": {
  "kernelspec": {
   "display_name": "Python 2",
   "language": "python",
   "name": "python2"
  },
  "language_info": {
   "codemirror_mode": {
    "name": "ipython",
    "version": 2
   },
   "file_extension": ".py",
   "mimetype": "text/x-python",
   "name": "python",
   "nbconvert_exporter": "python",
   "pygments_lexer": "ipython2",
   "version": "2.7.14"
  }
 },
 "nbformat": 4,
 "nbformat_minor": 2
}
