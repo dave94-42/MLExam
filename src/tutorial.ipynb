{
 "cells": [
  {
   "cell_type": "markdown",
   "metadata": {},
   "source": [
    "# Tutorial\n",
    "- Train / test on ML-Cup dataset\n",
    "    - SGD\n",
    "    - BFGS\n",
    "    - L-BFGS\n",
    "\n",
    "- Perform grid search\n",
    "    - SGD\n",
    "    - BFGS\n",
    "    - L-BFGS\n",
    "- Save and load network parametes"
   ]
  },
  {
   "cell_type": "code",
   "execution_count": 1,
   "metadata": {
    "collapsed": true
   },
   "outputs": [],
   "source": [
    "from Validation import *\n",
    "from time import time\n",
    "from utils import *\n",
    "from grid_search import *\n",
    "from Neural_network import *"
   ]
  },
  {
   "cell_type": "markdown",
   "metadata": {},
   "source": [
    "# Monk 1,2,3 with SGD, BFGS and L-BFGS"
   ]
  },
  {
   "cell_type": "markdown",
   "metadata": {},
   "source": [
    "### Load  Monk dataset"
   ]
  },
  {
   "cell_type": "code",
   "execution_count": null,
   "metadata": {
    "collapsed": true
   },
   "outputs": [],
   "source": [
    "# choose monk dataset\n",
    "monk = str(3)\n",
    "columns = ['label', 'f1', 'f2', 'f3', 'f4', 'f5', 'f6', 'id']\n",
    "\n",
    "# 1. traning set\n",
    "train_file = \"../monk_datasets/monks-\" + monk + \".train\"\n",
    "train_data = pd.read_csv(train_file, delim_whitespace=True, header=None)\n",
    "train_data.columns = columns\n",
    "\n",
    "# 2. test set\n",
    "test_file = \"../monk_datasets/monks-\" + monk + \".test\"\n",
    "test_data = pd.read_csv(test_file, delim_whitespace=True, header=None)\n",
    "test_data.columns = columns\n",
    "\n",
    "# 3. getting patterns and labels\n",
    "encoding = [3, 3, 2, 3, 4, 2]\n",
    "features = ['f1', 'f2', 'f3', 'f4', 'f5', 'f6']\n",
    "X_train, X_test = decode_patterns(encoding, features, train_data, test_data)\n",
    "Y_train, Y_test = transform_labels(train_data, test_data)"
   ]
  },
  {
   "cell_type": "markdown",
   "metadata": {
    "collapsed": true
   },
   "source": [
    "--------------------------------------\n",
    "# ML-Cup with SGD, BFGS and L-BFGS"
   ]
  },
  {
   "cell_type": "markdown",
   "metadata": {},
   "source": [
    "### Load ML-Cup dataset"
   ]
  },
  {
   "cell_type": "markdown",
   "metadata": {
    "collapsed": true
   },
   "source": [
    "   "
   ]
  },
  {
   "cell_type": "code",
   "execution_count": 2,
   "metadata": {
    "collapsed": true
   },
   "outputs": [],
   "source": [
    "# 1. read file train set\n",
    "df = pd.read_csv(\"../MLCup/ML-CUP17-TR_shuffled.csv\", comment='#')\n",
    "features_col = [\"input1\",\"input2\",\"input3\",\"input4\",\"input5\",\n",
    "                \"input6\",\"input7\", \"input8\",\"input9\",\"input10\"]\n",
    "targets_col = [\"target_x\", \"target_y\"]\n",
    "\n",
    "# 2. divide pattern and targets\n",
    "patterns,labels = divide_patterns_labels(df,features_col,targets_col)\n",
    "\n",
    "# 3. divide in development set and test set\n",
    "X_train, Y_train, X_test, Y_test = holdout_cup(patterns,labels, fraction_tr=0.8)"
   ]
  },
  {
   "cell_type": "markdown",
   "metadata": {},
   "source": [
    "## SGD - cup"
   ]
  },
  {
   "cell_type": "code",
   "execution_count": null,
   "metadata": {
    "collapsed": true
   },
   "outputs": [],
   "source": [
    "architecture = [17, 10, 10, 2] #[17, 100, 50, 2]\n",
    "neurons = [InputNeuron, TanHNeuron, TanHNeuron, OutputNeuron]\n",
    "loss_object = EuclideanError()\n",
    "\n",
    "learning_rate = 0.01\n",
    "momentum = 0.9\n",
    "lambda_ = 0#1 * 1e-3\n",
    "batch_size = len(X_train)\n",
    "epsilon = 1e-5\n",
    "epochs = 10#7000\n",
    "\n",
    "network = Network(architecture, neurons)"
   ]
  },
  {
   "cell_type": "code",
   "execution_count": null,
   "metadata": {
    "collapsed": true
   },
   "outputs": [],
   "source": [
    "tic = time()\n",
    "# 5. train\n",
    "loss_tr_sgd, miss_train, \\\n",
    "loss_ts_sgd, miss_test, norm_gradients_sgd = network.train_SGD(x_train=X_train, \n",
    "                                         y_train=Y_train, \n",
    "                                         x_test=X_test,\n",
    "                                         y_test=Y_test,\n",
    "                                         lossObject=loss_object,\n",
    "                                         epochs=epochs, \n",
    "                                         learning_rate=learning_rate, \n",
    "                                         batch_size=batch_size,\n",
    "                                         momentum=momentum, \n",
    "                                        regularization=lambda_, epsilon=epsilon)\n",
    "toc = time()"
   ]
  },
  {
   "cell_type": "code",
   "execution_count": null,
   "metadata": {
    "collapsed": true
   },
   "outputs": [],
   "source": [
    "plot_train_test_learning_curve(loss_ts_sgd, loss_tr_sgd, miss_test, miss_train)\n",
    "print \"loss train:\", loss_tr_sgd[-1]\n",
    "print \"loss test:\", loss_ts_sgd[-1]\n",
    "print \"training time:\", (toc-tic)\n",
    "print \"norm gradient last:\", norm_gradients_sgd[-1]"
   ]
  },
  {
   "cell_type": "markdown",
   "metadata": {},
   "source": [
    "## BFGS - cup"
   ]
  },
  {
   "cell_type": "code",
   "execution_count": 3,
   "metadata": {
    "collapsed": true
   },
   "outputs": [],
   "source": [
    "architecture = [17, 10, 10, 2]\n",
    "neurons = [InputNeuron, TanHNeuron, TanHNeuron, OutputNeuron]\n",
    "loss_object = EuclideanError()\n",
    "\n",
    "c_1 = 1e-4\n",
    "c_2 = 0.9\n",
    "theta = 0.9\n",
    "lambda_ = 0\n",
    "epsilon = 1 * 1e-5\n",
    "epochs = 500"
   ]
  },
  {
   "cell_type": "code",
   "execution_count": 4,
   "metadata": {
    "scrolled": false
   },
   "outputs": [
    {
     "name": "stdout",
     "output_type": "stream",
     "text": [
      "0 out of 500\n",
      "1 out of 500\n",
      "2 out of 500\n",
      "3 out of 500\n",
      "4 out of 500\n",
      "5 out of 500\n",
      "6 out of 500\n",
      "7 out of 500\n",
      "8 out of 500\n",
      "9 out of 500\n",
      "10 out of 500\n",
      "11 out of 500\n",
      "12 out of 500\n",
      "13 out of 500\n",
      "14 out of 500\n",
      "15 out of 500\n",
      "16 out of 500\n",
      "17 out of 500\n",
      "18 out of 500\n",
      "19 out of 500\n",
      "20 out of 500\n",
      "21 out of 500\n",
      "22 out of 500\n",
      "23 out of 500\n",
      "24 out of 500\n",
      "25 out of 500\n",
      "26 out of 500\n"
     ]
    },
    {
     "ename": "UnboundLocalError",
     "evalue": "local variable 'phi_alpha_old' referenced before assignment",
     "output_type": "error",
     "traceback": [
      "\u001b[0;31m---------------------------------------------------------------------------\u001b[0m",
      "\u001b[0;31mUnboundLocalError\u001b[0m                         Traceback (most recent call last)",
      "\u001b[0;32m<ipython-input-4-618f24a95c2f>\u001b[0m in \u001b[0;36m<module>\u001b[0;34m()\u001b[0m\n\u001b[1;32m      8\u001b[0m                                                        \u001b[0mregularization\u001b[0m\u001b[0;34m=\u001b[0m\u001b[0mlambda_\u001b[0m\u001b[0;34m,\u001b[0m\u001b[0;34m\u001b[0m\u001b[0m\n\u001b[1;32m      9\u001b[0m                                                        \u001b[0mepochs\u001b[0m\u001b[0;34m=\u001b[0m\u001b[0mepochs\u001b[0m\u001b[0;34m,\u001b[0m \u001b[0mepsilon\u001b[0m\u001b[0;34m=\u001b[0m\u001b[0mepsilon\u001b[0m\u001b[0;34m,\u001b[0m\u001b[0;34m\u001b[0m\u001b[0m\n\u001b[0;32m---> 10\u001b[0;31m                                                        line_search='wolfe', debug=False)\n\u001b[0m\u001b[1;32m     11\u001b[0m \u001b[0mtoc\u001b[0m \u001b[0;34m=\u001b[0m \u001b[0mtime\u001b[0m\u001b[0;34m(\u001b[0m\u001b[0;34m)\u001b[0m\u001b[0;34m\u001b[0m\u001b[0m\n",
      "\u001b[0;32m/home/carlo/Documents/UNIPI/MSc/ML/MLExam/src/Neural_network.py\u001b[0m in \u001b[0;36mtrain_BFGS\u001b[0;34m(self, x_train, y_train, x_test, y_test, theta, c_1, c_2, lossObject, epochs, regularization, epsilon, line_search, debug)\u001b[0m\n\u001b[1;32m    434\u001b[0m             \u001b[0;31m# 2. line search\u001b[0m\u001b[0;34m\u001b[0m\u001b[0;34m\u001b[0m\u001b[0m\n\u001b[1;32m    435\u001b[0m             \u001b[0;32mif\u001b[0m \u001b[0mline_search\u001b[0m \u001b[0;34m==\u001b[0m \u001b[0;34m'wolfe'\u001b[0m\u001b[0;34m:\u001b[0m\u001b[0;34m\u001b[0m\u001b[0m\n\u001b[0;32m--> 436\u001b[0;31m                 \u001b[0malpha\u001b[0m \u001b[0;34m=\u001b[0m \u001b[0mself\u001b[0m\u001b[0;34m.\u001b[0m\u001b[0marmijo_wolfe_line_search\u001b[0m\u001b[0;34m(\u001b[0m\u001b[0mc_1\u001b[0m\u001b[0;34m,\u001b[0m \u001b[0mc_2\u001b[0m\u001b[0;34m,\u001b[0m \u001b[0mx_train\u001b[0m\u001b[0;34m,\u001b[0m \u001b[0mgradient_old\u001b[0m\u001b[0;34m,\u001b[0m \u001b[0mloss\u001b[0m\u001b[0;34m,\u001b[0m \u001b[0mlossObject\u001b[0m\u001b[0;34m,\u001b[0m \u001b[0mp\u001b[0m\u001b[0;34m,\u001b[0m \u001b[0my_train\u001b[0m\u001b[0;34m,\u001b[0m \u001b[0mtheta\u001b[0m\u001b[0;34m,\u001b[0m \u001b[0mregularization\u001b[0m\u001b[0;34m)\u001b[0m\u001b[0;34m\u001b[0m\u001b[0m\n\u001b[0m\u001b[1;32m    437\u001b[0m             \u001b[0;32melif\u001b[0m \u001b[0mline_search\u001b[0m \u001b[0;34m==\u001b[0m \u001b[0;34m'backtracking'\u001b[0m\u001b[0;34m:\u001b[0m\u001b[0;34m\u001b[0m\u001b[0m\n\u001b[1;32m    438\u001b[0m                 \u001b[0malpha\u001b[0m \u001b[0;34m=\u001b[0m \u001b[0mself\u001b[0m\u001b[0;34m.\u001b[0m\u001b[0mbacktracking_line_search\u001b[0m\u001b[0;34m(\u001b[0m\u001b[0mc_1\u001b[0m\u001b[0;34m,\u001b[0m \u001b[0mx_train\u001b[0m\u001b[0;34m,\u001b[0m \u001b[0mgradient_old\u001b[0m\u001b[0;34m,\u001b[0m \u001b[0mloss\u001b[0m\u001b[0;34m,\u001b[0m \u001b[0mlossObject\u001b[0m\u001b[0;34m,\u001b[0m \u001b[0mp\u001b[0m\u001b[0;34m,\u001b[0m \u001b[0my_train\u001b[0m\u001b[0;34m,\u001b[0m \u001b[0mtheta\u001b[0m\u001b[0;34m,\u001b[0m \u001b[0mregularization\u001b[0m\u001b[0;34m)\u001b[0m\u001b[0;34m\u001b[0m\u001b[0m\n",
      "\u001b[0;32m/home/carlo/Documents/UNIPI/MSc/ML/MLExam/src/Neural_network.py\u001b[0m in \u001b[0;36marmijo_wolfe_line_search\u001b[0;34m(self, c_1, c_2, data, gradient, loss, lossObject, p, targets, theta, regularization)\u001b[0m\n\u001b[1;32m    699\u001b[0m \u001b[0;34m\u001b[0m\u001b[0m\n\u001b[1;32m    700\u001b[0m             \u001b[0;31m# 2. if phi(alpha_i) > phi(0) + c1 * alpha_i * phi'(0) or [phi(alpha_i) >= phi(alpha_{i-1}) and i > 0]\u001b[0m\u001b[0;34m\u001b[0m\u001b[0;34m\u001b[0m\u001b[0m\n\u001b[0;32m--> 701\u001b[0;31m             \u001b[0;32mif\u001b[0m \u001b[0mphi_alpha_i\u001b[0m \u001b[0;34m>\u001b[0m \u001b[0mphi_0\u001b[0m \u001b[0;34m+\u001b[0m \u001b[0mc_1\u001b[0m \u001b[0;34m*\u001b[0m \u001b[0malpha_i\u001b[0m \u001b[0;34m*\u001b[0m \u001b[0mphi_p_0\u001b[0m \u001b[0;32mor\u001b[0m \u001b[0;34m(\u001b[0m\u001b[0mphi_alpha_i\u001b[0m \u001b[0;34m>=\u001b[0m \u001b[0mphi_alpha_old\u001b[0m\u001b[0;34m)\u001b[0m\u001b[0;34m:\u001b[0m\u001b[0;34m\u001b[0m\u001b[0m\n\u001b[0m\u001b[1;32m    702\u001b[0m                 \u001b[0malpha_star\u001b[0m \u001b[0;34m=\u001b[0m \u001b[0mself\u001b[0m\u001b[0;34m.\u001b[0m\u001b[0mzoom\u001b[0m\u001b[0;34m(\u001b[0m\u001b[0malpha_old\u001b[0m\u001b[0;34m,\u001b[0m \u001b[0malpha_i\u001b[0m\u001b[0;34m,\u001b[0m \u001b[0mp\u001b[0m\u001b[0;34m,\u001b[0m \u001b[0mphi_0\u001b[0m\u001b[0;34m,\u001b[0m \u001b[0mphi_p_0\u001b[0m\u001b[0;34m,\u001b[0m \u001b[0mc_1\u001b[0m\u001b[0;34m,\u001b[0m \u001b[0mc_2\u001b[0m\u001b[0;34m,\u001b[0m \u001b[0mdata\u001b[0m\u001b[0;34m,\u001b[0m \u001b[0mtargets\u001b[0m\u001b[0;34m,\u001b[0m \u001b[0mlossObject\u001b[0m\u001b[0;34m,\u001b[0m \u001b[0mregularization\u001b[0m\u001b[0;34m)\u001b[0m\u001b[0;34m\u001b[0m\u001b[0m\n\u001b[1;32m    703\u001b[0m                 \u001b[0;32mreturn\u001b[0m \u001b[0malpha_star\u001b[0m\u001b[0;34m\u001b[0m\u001b[0m\n",
      "\u001b[0;31mUnboundLocalError\u001b[0m: local variable 'phi_alpha_old' referenced before assignment"
     ]
    }
   ],
   "source": [
    "network = Network(architecture, neurons)\n",
    "\n",
    "tic = time()\n",
    "loss_tr_bfgs, miss_tr, \\\n",
    "loss_ts_bfgs, miss_ts, alphas_bfgs, \\\n",
    "norm_gradients_bfgs, cond_bfgs = network.train_BFGS(X_train, Y_train, \n",
    "                                                       X_test, Y_test,\n",
    "                                                       theta=theta, c_1=c_1, c_2=c_2, \n",
    "                                                       lossObject=loss_object, \n",
    "                                                       regularization=lambda_, \n",
    "                                                       epochs=epochs, epsilon=epsilon,\n",
    "                                                       line_search='wolfe', debug=False)\n",
    "toc = time()"
   ]
  },
  {
   "cell_type": "code",
   "execution_count": null,
   "metadata": {
    "scrolled": true
   },
   "outputs": [],
   "source": [
    "plot_train_test_learning_curve(loss_ts_bfgs, loss_tr_bfgs, miss_ts, miss_tr)\n",
    "print \"loss train:\", loss_tr_bfgs[-1]\n",
    "print \"loss test:\", loss_ts_bfgs[-1]\n",
    "print \"training time:\", (toc-tic)\n",
    "print \"norm gradient last:\", norm_gradients_bfgs[-1]"
   ]
  },
  {
   "cell_type": "markdown",
   "metadata": {},
   "source": [
    "## L-BFGS - cup"
   ]
  },
  {
   "cell_type": "code",
   "execution_count": 6,
   "metadata": {
    "collapsed": true
   },
   "outputs": [],
   "source": [
    "architecture = [17, 10, 10, 2]\n",
    "neurons = [InputNeuron, TanHNeuron, TanHNeuron, OutputNeuron]\n",
    "loss_object = EuclideanError()\n",
    "\n",
    "c_1 = 1e-4\n",
    "c_2 = 0.9\n",
    "theta = 0.5\n",
    "lambda_ = 0\n",
    "epsilon = 1e-5\n",
    "epochs = 500\n",
    "m = 10\n",
    "\n",
    "network = Network(architecture, neurons)"
   ]
  },
  {
   "cell_type": "code",
   "execution_count": 7,
   "metadata": {},
   "outputs": [
    {
     "name": "stdout",
     "output_type": "stream",
     "text": [
      "0 out of 500\n",
      "True\n",
      "1 out of 500\n",
      "False\n",
      "2 out of 500\n",
      "False\n",
      "3 out of 500\n",
      "False\n",
      "4 out of 500\n",
      "False\n",
      "5 out of 500\n",
      "False\n",
      "6 out of 500\n",
      "False\n",
      "7 out of 500\n",
      "False\n",
      "8 out of 500\n",
      "False\n",
      "9 out of 500\n",
      "False\n",
      "10 out of 500\n",
      "False\n",
      "11 out of 500\n",
      "False\n",
      "12 out of 500\n",
      "False\n",
      "13 out of 500\n",
      "False\n",
      "14 out of 500\n",
      "False\n",
      "15 out of 500\n",
      "False\n",
      "16 out of 500\n",
      "False\n",
      "17 out of 500\n",
      "False\n",
      "18 out of 500\n",
      "False\n",
      "19 out of 500\n",
      "False\n",
      "20 out of 500\n",
      "False\n",
      "21 out of 500\n",
      "False\n",
      "22 out of 500\n",
      "False\n",
      "23 out of 500\n",
      "False\n",
      "24 out of 500\n",
      "False\n",
      "25 out of 500\n",
      "False\n",
      "26 out of 500\n",
      "False\n",
      "27 out of 500\n",
      "False\n",
      "28 out of 500\n",
      "False\n",
      "29 out of 500\n",
      "False\n",
      "30 out of 500\n",
      "False\n",
      "31 out of 500\n",
      "False\n",
      "32 out of 500\n",
      "False\n",
      "33 out of 500\n",
      "False\n",
      "34 out of 500\n",
      "False\n",
      "35 out of 500\n",
      "False\n",
      "36 out of 500\n",
      "False\n",
      "37 out of 500\n",
      "False\n",
      "38 out of 500\n",
      "False\n",
      "39 out of 500\n",
      "False\n",
      "40 out of 500\n",
      "False\n",
      "41 out of 500\n",
      "False\n",
      "42 out of 500\n",
      "False\n",
      "43 out of 500\n",
      "False\n",
      "44 out of 500\n",
      "False\n",
      "45 out of 500\n",
      "False\n",
      "46 out of 500\n",
      "False\n",
      "47 out of 500\n",
      "False\n",
      "48 out of 500\n",
      "False\n",
      "49 out of 500\n",
      "False\n",
      "50 out of 500\n",
      "False\n",
      "51 out of 500\n",
      "False\n",
      "52 out of 500\n",
      "False\n",
      "53 out of 500\n",
      "False\n",
      "54 out of 500\n",
      "False\n",
      "55 out of 500\n",
      "False\n",
      "56 out of 500\n",
      "False\n",
      "57 out of 500\n",
      "False\n",
      "58 out of 500\n",
      "False\n",
      "59 out of 500\n",
      "False\n",
      "60 out of 500\n",
      "False\n",
      "61 out of 500\n",
      "False\n",
      "62 out of 500\n",
      "False\n",
      "63 out of 500\n",
      "False\n",
      "64 out of 500\n",
      "False\n",
      "65 out of 500\n",
      "False\n",
      "66 out of 500\n",
      "False\n",
      "67 out of 500\n",
      "False\n",
      "68 out of 500\n",
      "False\n",
      "69 out of 500\n",
      "False\n",
      "70 out of 500\n",
      "False\n",
      "71 out of 500\n",
      "False\n",
      "72 out of 500\n",
      "False\n",
      "73 out of 500\n",
      "False\n",
      "74 out of 500\n",
      "False\n",
      "75 out of 500\n",
      "False\n",
      "76 out of 500\n",
      "False\n",
      "77 out of 500\n",
      "False\n",
      "78 out of 500\n",
      "False\n",
      "79 out of 500\n",
      "False\n",
      "80 out of 500\n",
      "False\n",
      "81 out of 500\n",
      "False\n",
      "82 out of 500\n",
      "False\n",
      "83 out of 500\n",
      "False\n",
      "84 out of 500\n",
      "False\n",
      "85 out of 500\n",
      "False\n",
      "86 out of 500\n",
      "False\n",
      "87 out of 500\n",
      "False\n",
      "88 out of 500\n",
      "False\n",
      "89 out of 500\n",
      "False\n",
      "90 out of 500\n",
      "False\n",
      "91 out of 500\n",
      "False\n",
      "92 out of 500\n",
      "False\n",
      "93 out of 500\n",
      "False\n",
      "94 out of 500\n",
      "False\n",
      "95 out of 500\n",
      "False\n",
      "96 out of 500\n",
      "False\n",
      "97 out of 500\n",
      "False\n",
      "98 out of 500\n",
      "False\n",
      "99 out of 500\n",
      "False\n",
      "100 out of 500\n",
      "False\n",
      "101 out of 500\n",
      "False\n",
      "102 out of 500\n",
      "False\n",
      "103 out of 500\n",
      "False\n",
      "104 out of 500\n",
      "False\n",
      "105 out of 500\n",
      "False\n",
      "106 out of 500\n",
      "False\n",
      "107 out of 500\n",
      "False\n",
      "108 out of 500\n",
      "False\n",
      "109 out of 500\n",
      "False\n",
      "110 out of 500\n",
      "False\n",
      "111 out of 500\n",
      "False\n",
      "112 out of 500\n",
      "False\n",
      "113 out of 500\n",
      "False\n",
      "114 out of 500\n",
      "False\n",
      "115 out of 500\n",
      "False\n",
      "116 out of 500\n",
      "False\n",
      "117 out of 500\n",
      "False\n",
      "118 out of 500\n",
      "False\n",
      "119 out of 500\n",
      "False\n",
      "120 out of 500\n",
      "False\n",
      "121 out of 500\n",
      "False\n",
      "122 out of 500\n",
      "False\n",
      "123 out of 500\n",
      "False\n",
      "124 out of 500\n",
      "False\n",
      "125 out of 500\n",
      "False\n",
      "126 out of 500\n",
      "False\n",
      "127 out of 500\n",
      "False\n",
      "128 out of 500\n",
      "False\n",
      "129 out of 500\n",
      "False\n",
      "130 out of 500\n",
      "False\n",
      "131 out of 500\n",
      "False\n",
      "132 out of 500\n",
      "False\n",
      "133 out of 500\n",
      "False\n",
      "134 out of 500\n",
      "False\n",
      "135 out of 500\n",
      "False\n",
      "136 out of 500\n",
      "False\n",
      "137 out of 500\n",
      "False\n",
      "138 out of 500\n",
      "False\n",
      "139 out of 500\n",
      "False\n",
      "140 out of 500\n",
      "False\n",
      "141 out of 500\n",
      "False\n",
      "142 out of 500\n",
      "False\n",
      "143 out of 500\n",
      "False\n",
      "144 out of 500\n",
      "False\n",
      "145 out of 500\n",
      "False\n",
      "146 out of 500\n",
      "False\n",
      "147 out of 500\n",
      "False\n",
      "148 out of 500\n",
      "False\n",
      "149 out of 500\n",
      "False\n",
      "150 out of 500\n",
      "False\n",
      "151 out of 500\n",
      "False\n",
      "152 out of 500\n",
      "False\n",
      "153 out of 500\n",
      "False\n",
      "154 out of 500\n",
      "False\n",
      "155 out of 500\n",
      "False\n",
      "156 out of 500\n",
      "False\n",
      "157 out of 500\n",
      "False\n",
      "158 out of 500\n",
      "False\n",
      "159 out of 500\n",
      "False\n",
      "160 out of 500\n",
      "False\n",
      "161 out of 500\n",
      "False\n",
      "162 out of 500\n",
      "False\n",
      "163 out of 500\n",
      "False\n",
      "164 out of 500\n",
      "False\n",
      "165 out of 500\n",
      "False\n",
      "166 out of 500\n",
      "False\n",
      "167 out of 500\n",
      "False\n",
      "zoom - interval too small\n",
      "stop: line search, epoch 167\n"
     ]
    }
   ],
   "source": [
    "tic = time()\n",
    "loss_tr_lbfgs, miss_tr, \\\n",
    "loss_ts_lbfgs, miss_ts, alphas_lbfgs, \\\n",
    "norm_gradients_lbfgs, cond_lbfgs = network.train_LBFGS(X_train, Y_train,\n",
    "                                                        X_test, Y_test,\n",
    "                                                        theta=theta, \n",
    "                                                        c_1=c_1, \n",
    "                                                        c_2=c_2, \n",
    "                                                        lossObject=loss_object,\n",
    "                                                        regularization=lambda_, \n",
    "                                                        epochs=epochs, \n",
    "                                                        epsilon=epsilon, m=m, \n",
    "                                                        line_search='wolfe', debug=False)\n",
    "toc = time()"
   ]
  },
  {
   "cell_type": "code",
   "execution_count": 8,
   "metadata": {},
   "outputs": [
    {
     "data": {
      "image/png": "[encoded data removed]",
      "text/plain": [
       "<matplotlib.figure.Figure at 0x7f9ee6655610>"
      ]
     },
     "metadata": {},
     "output_type": "display_data"
    },
    {
     "data": {
      "image/png": "[encoded data removed]",
      "text/plain": [
       "<matplotlib.figure.Figure at 0x7f9ee6554590>"
      ]
     },
     "metadata": {},
     "output_type": "display_data"
    },
    {
     "name": "stdout",
     "output_type": "stream",
     "text": [
      "loss train: 1.1098120533\n",
      "loss test: 1.23549435663\n",
      "training time: 254.578800917\n",
      "norm gradient last: 0.413380778067\n"
     ]
    }
   ],
   "source": [
    "plot_train_test_learning_curve(loss_ts_lbfgs, loss_tr_lbfgs, miss_ts, miss_tr)\n",
    "print \"loss train:\", loss_tr_lbfgs[-1]\n",
    "print \"loss test:\", loss_ts_lbfgs[-1]\n",
    "print \"training time:\", (toc-tic)\n",
    "print \"norm gradient last:\", norm_gradients_lbfgs[-1]"
   ]
  },
  {
   "cell_type": "markdown",
   "metadata": {},
   "source": [
    "### ML-CUP - optimization plots\n",
    "- $|| \\nabla E(w)||$ vs iterations\n",
    "- $ |E(w) - E(w^*)| $ vs iterations\n",
    "- step size $\\alpha$ vs iterations (only for BFGS and L-BFGS)"
   ]
  },
  {
   "cell_type": "code",
   "execution_count": null,
   "metadata": {
    "collapsed": true
   },
   "outputs": [],
   "source": [
    "plot_norm_gradient_vs_iterations(norm_gradients_sgd, norm_gradients_bfgs, norm_gradients_lbfgs)\n",
    "plot_relative_gap_vs_iterations(list(loss_tr_sgd), list(loss_tr_bfgs), list(loss_tr_lbfgs))\n",
    "plot_alpha_vs_iterations(alphas_bfgs, alphas_lbfgs)\n",
    "plot_condition_number_vs_iterations(cond_bfgs, cond_lbfgs=None)"
   ]
  },
  {
   "cell_type": "markdown",
   "metadata": {
    "collapsed": true
   },
   "source": [
    "# Grid search"
   ]
  },
  {
   "cell_type": "code",
   "execution_count": null,
   "metadata": {
    "collapsed": true
   },
   "outputs": [],
   "source": [
    "# directory where to save learning curves\n",
    "save_directory = './' \n",
    "# loss to optimize\n",
    "loss = SquaredError(\"tangentH\")"
   ]
  },
  {
   "cell_type": "code",
   "execution_count": null,
   "metadata": {
    "collapsed": true
   },
   "outputs": [],
   "source": [
    "# grid search parameters\n",
    "grid = GridSearchSGDParams(learning_rate = [0.01, 0.001],\n",
    "                           momentum = [0.5, 0.9], \n",
    "                           batch_size = [16, 32], \n",
    "                           architecture = [[17, 10, 1]],\n",
    "                           neurons = [[InputNeuron, TanHNeuron, TanHNeuron]], \n",
    "                           regularization = [0.01, 0.001], \n",
    "                           epoch = 5)\n",
    "\n",
    "# execute grid search\n",
    "grid_search_SGD(grid, loss, train_patterns, train_labels,\n",
    "                test_patterns, test_labels, n_trials=1, save_in_dir=save_directory)"
   ]
  },
  {
   "cell_type": "code",
   "execution_count": null,
   "metadata": {
    "collapsed": true
   },
   "outputs": [],
   "source": [
    "grid = GridSearchBFGSParams(c_1=[0.0001], \n",
    "                            c_2=[0.9], \n",
    "                            theta=[0.9], \n",
    "                            regularization=[0.001], \n",
    "                            epsilon=[0.001, 0.0001],\n",
    "                            epoch=5,\n",
    "                            architecture = [[17, 10, 1]],\n",
    "                            neurons = [[InputNeuron, TanHNeuron, TanHNeuron]])         \n",
    "\n",
    "grid_search_BFGS(grid, loss, train_patterns, train_labels,\n",
    "                 test_patterns, test_labels, n_trials=2, save_in_dir=save_directory)"
   ]
  },
  {
   "cell_type": "code",
   "execution_count": null,
   "metadata": {
    "collapsed": true
   },
   "outputs": [],
   "source": [
    "grid = GridSearchLBFGSParams(c_1=[0.0001], \n",
    "                            c_2=[0.9], \n",
    "                            theta=[0.9], \n",
    "                            regularization=[0.001], \n",
    "                            epsilon=[0.001, 0.0001],\n",
    "                            m=[10, 20],\n",
    "                            epoch=5,\n",
    "                            architecture = [[17, 10, 1]],\n",
    "                            neurons = [[InputNeuron, TanHNeuron, TanHNeuron]])\n",
    "\n",
    "grid_search_LBFGS(grid, loss, train_patterns, train_labels,\n",
    "                  test_patterns, test_labels,\n",
    "                  n_trials=5, save_in_dir=save_directory)"
   ]
  },
  {
   "cell_type": "markdown",
   "metadata": {},
   "source": [
    "## Save & load network parameters"
   ]
  },
  {
   "cell_type": "code",
   "execution_count": null,
   "metadata": {
    "collapsed": true
   },
   "outputs": [],
   "source": [
    "network = Network([2,5,1], [InputNeuron, TanHNeuron, TanHNeuron])   # random initialized\n",
    "with open(\"test_weights.csv\", \"w\") as out_file:\n",
    "    network.dump_weights(out_file)\n",
    "    \n",
    "network_2 = Network([2,5,1], [InputNeuron, TanHNeuron, TanHNeuron]) # random initialized\n",
    "with open(\"test_weights.csv\", \"r\") as in_file:\n",
    "    network_2.load_weights(in_file)\n",
    "    \n",
    "network.get_weights_as_vector() == network_2.get_weights_as_vector()"
   ]
  },
  {
   "cell_type": "markdown",
   "metadata": {
    "collapsed": true
   },
   "source": [
    "# BFGS vs L-BFGS\n",
    "varying the parameter $m$ of L-BFGS"
   ]
  },
  {
   "cell_type": "code",
   "execution_count": null,
   "metadata": {
    "collapsed": true
   },
   "outputs": [],
   "source": [
    "architecture = [17, 5, 5, 1]\n",
    "neurons = [InputNeuron, TanHNeuron, TanHNeuron, TanHNeuron]\n",
    "loss_object = SquaredError(\"tangentH\")\n",
    "\n",
    "c_1 = 1e-4\n",
    "c_2 = 0.7\n",
    "theta = 0.7\n",
    "lambda_ = 0\n",
    "epsilon = 1e-5\n",
    "epochs = 200\n",
    "network_to_copy = Network(architecture, neurons)"
   ]
  },
  {
   "cell_type": "code",
   "execution_count": null,
   "metadata": {
    "collapsed": true
   },
   "outputs": [],
   "source": [
    "# L-BFGS training\n",
    "m_values = [1, 3, 5, 7, 9, 11, 13, 15, 17]\n",
    "time_lbfgs = []\n",
    "norm_gradient_lbfgs = []\n",
    "losses_lbfgs = []\n",
    "iters_lbfgs = []\n",
    "\n",
    "for m_value in m_values:\n",
    "    print m_value\n",
    "    network = copy.deepcopy(network_to_copy)\n",
    "    tic = time()\n",
    "    loss_tr, _, _, _, _, norm_gradients, cond = network.train_LBFGS(X_train, Y_train,\n",
    "                                                        X_test, Y_test,\n",
    "                                                        theta=theta, \n",
    "                                                        c_1=c_1, \n",
    "                                                        c_2=c_2, \n",
    "                                                        lossObject=loss_object,\n",
    "                                                        regularization=lambda_, \n",
    "                                                        epochs=epochs, \n",
    "                                                        epsilon=epsilon, m=m_value)\n",
    "    toc = time()\n",
    "    \n",
    "    # append results\n",
    "    time_lbfgs.append(toc-tic)\n",
    "    norm_gradient_lbfgs.append(norm_gradients)\n",
    "    losses_lbfgs.append(loss_tr)\n",
    "    iters_lbfgs.append(len(norm_gradients))"
   ]
  },
  {
   "cell_type": "code",
   "execution_count": null,
   "metadata": {
    "collapsed": true
   },
   "outputs": [],
   "source": [
    "# BFGS train\n",
    "network = copy.deepcopy(network_to_copy)\n",
    "tic = time()\n",
    "loss_tr_bfgs, _, _, _, _, norm_gradients_bfgs, cond = network.train_BFGS(X_train, Y_train,\n",
    "                                                        X_test, Y_test,\n",
    "                                                        theta=theta, \n",
    "                                                        c_1=c_1, \n",
    "                                                        c_2=c_2, \n",
    "                                                        lossObject=loss_object,\n",
    "                                                        regularization=lambda_, \n",
    "                                                        epochs=epochs, \n",
    "                                                        epsilon=epsilon)\n",
    "toc = time()\n",
    "\n",
    "time_bfgs = toc-tic\n",
    "iters_bfgs = len(norm_gradients_bfgs)"
   ]
  },
  {
   "cell_type": "code",
   "execution_count": null,
   "metadata": {
    "collapsed": true
   },
   "outputs": [],
   "source": [
    "# time to reach the norm of the gradient less than epsilon\n",
    "d = {'m': m_values, 'time': np.round(time_lbfgs,2), 'iters': iters_lbfgs, \\\n",
    "     'loss': [l[-1] for l in losses_lbfgs]}\n",
    "print 'L-BFGS\\n', pd.DataFrame(d, index=m_values)\n",
    "print 'BFGS time:', round(time_bfgs,2), 'iters:', iters_bfgs, 'loss:', loss_tr_bfgs[-1]"
   ]
  },
  {
   "cell_type": "code",
   "execution_count": null,
   "metadata": {
    "collapsed": true
   },
   "outputs": [],
   "source": [
    "plt.plot(range(iters_bfgs), norm_gradients_bfgs, label='bfgs', color='black', linewidth=2)\n",
    "for m, gnorm, iters in zip(m_values, norm_gradient_lbfgs, iters_lbfgs):\n",
    "    plt.plot(range(iters), gnorm, '--', label='l-bfgs, m='+str(m))\n",
    "    \n",
    "plt.legend(loc='right', bbox_to_anchor=(1.3, 0.7),\n",
    "          ncol=1, fancybox=True, shadow=True)\n",
    "plt.xscale('log')\n",
    "plt.yscale('log')\n",
    "plt.xlabel('Iterazioni')\n",
    "plt.ylabel(r'$||\\nabla E(w)||$')\n",
    "plt.show()"
   ]
  },
  {
   "cell_type": "code",
   "execution_count": null,
   "metadata": {
    "collapsed": true
   },
   "outputs": [],
   "source": [
    "plt.plot(range(iters_bfgs), loss_tr_bfgs, label='bfgs', color='black', linewidth=2)\n",
    "for m, loss, iters in zip(m_values, losses_lbfgs, iters_lbfgs):\n",
    "    plt.plot(range(iters), loss, '--', label='l-bfgs, m='+str(m))\n",
    "    \n",
    "plt.legend(loc='right', bbox_to_anchor=(1.3, 0.7),\n",
    "          ncol=1, fancybox=True, shadow=True)\n",
    "plt.xscale('log')\n",
    "plt.yscale('log')\n",
    "plt.xlabel('Iterazioni')\n",
    "plt.ylabel(r'$E(w)$')\n",
    "plt.show()"
   ]
  },
  {
   "cell_type": "code",
   "execution_count": null,
   "metadata": {
    "collapsed": true
   },
   "outputs": [],
   "source": []
  },
  {
   "cell_type": "code",
   "execution_count": null,
   "metadata": {
    "collapsed": true
   },
   "outputs": [],
   "source": []
  }
 ],
 "metadata": {
  "kernelspec": {
   "display_name": "Python 2",
   "language": "python",
   "name": "python2"
  },
  "language_info": {
   "codemirror_mode": {
    "name": "ipython",
    "version": 2
   },
   "file_extension": ".py",
   "mimetype": "text/x-python",
   "name": "python",
   "nbconvert_exporter": "python",
   "pygments_lexer": "ipython2",
   "version": "2.7.14"
  }
 },
 "nbformat": 4,
 "nbformat_minor": 2
}
